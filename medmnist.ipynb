{
 "cells": [
  {
   "cell_type": "markdown",
   "metadata": {},
   "source": [
    "# Environment"
   ]
  },
  {
   "cell_type": "code",
   "execution_count": 1,
   "metadata": {},
   "outputs": [
    {
     "name": "stdout",
     "output_type": "stream",
     "text": [
      "Mon Feb 24 04:04:16 2025       \n",
      "+-----------------------------------------------------------------------------------------+\n",
      "| NVIDIA-SMI 572.16                 Driver Version: 572.16         CUDA Version: 12.8     |\n",
      "|-----------------------------------------+------------------------+----------------------+\n",
      "| GPU  Name                  Driver-Model | Bus-Id          Disp.A | Volatile Uncorr. ECC |\n",
      "| Fan  Temp   Perf          Pwr:Usage/Cap |           Memory-Usage | GPU-Util  Compute M. |\n",
      "|                                         |                        |               MIG M. |\n",
      "|=========================================+========================+======================|\n",
      "|   0  NVIDIA GeForce GTX 1080      WDDM  |   00000000:0A:00.0  On |                  N/A |\n",
      "| 34%   44C    P0             49W /  200W |    1658MiB /   8192MiB |      1%      Default |\n",
      "|                                         |                        |                  N/A |\n",
      "+-----------------------------------------+------------------------+----------------------+\n",
      "                                                                                         \n",
      "+-----------------------------------------------------------------------------------------+\n",
      "| Processes:                                                                              |\n",
      "|  GPU   GI   CI              PID   Type   Process name                        GPU Memory |\n",
      "|        ID   ID                                                               Usage      |\n",
      "|=========================================================================================|\n",
      "|    0   N/A  N/A            1148    C+G   ...ends\\LeagueClientUxRender.exe      N/A      |\n",
      "|    0   N/A  N/A            1812    C+G   ...ef.win7x64\\steamwebhelper.exe      N/A      |\n",
      "|    0   N/A  N/A            2120    C+G   ...Browser\\Application\\brave.exe      N/A      |\n",
      "|    0   N/A  N/A            2168    C+G   ...em_tray\\lghub_system_tray.exe      N/A      |\n",
      "|    0   N/A  N/A            5368    C+G   ....0.3065.82\\msedgewebview2.exe      N/A      |\n",
      "|    0   N/A  N/A            5768    C+G   ...a Thunderbird\\thunderbird.exe      N/A      |\n",
      "|    0   N/A  N/A            6900    C+G   ...yb3d8bbwe\\WindowsTerminal.exe      N/A      |\n",
      "|    0   N/A  N/A           11688    C+G   ...App_cw5n1h2txyewy\\LockApp.exe      N/A      |\n",
      "|    0   N/A  N/A           13632    C+G   ...xyewy\\ShellExperienceHost.exe      N/A      |\n",
      "|    0   N/A  N/A           16008    C+G   ...crosoft OneDrive\\OneDrive.exe      N/A      |\n",
      "|    0   N/A  N/A           16592    C+G   ...ms\\Microsoft VS Code\\Code.exe      N/A      |\n",
      "|    0   N/A  N/A           17996    C+G   ...SAIR iCUE 4 Software\\iCUE.exe      N/A      |\n",
      "|    0   N/A  N/A           19188    C+G   ...5n1h2txyewy\\TextInputHost.exe      N/A      |\n",
      "|    0   N/A  N/A           21328    C+G   ...lpaper_engine\\wallpaper32.exe      N/A      |\n",
      "|    0   N/A  N/A           22164    C+G   ...\\Clockify\\ClockifyWindows.exe      N/A      |\n",
      "|    0   N/A  N/A           22636    C+G   ...4__cv1g1gvanyjgm\\WhatsApp.exe      N/A      |\n",
      "|    0   N/A  N/A           26176    C+G   ...IA app\\CEF\\NVIDIA Overlay.exe      N/A      |\n",
      "|    0   N/A  N/A           27248    C+G   ...h_cw5n1h2txyewy\\SearchApp.exe      N/A      |\n",
      "|    0   N/A  N/A           30300    C+G   ...Browser\\Application\\brave.exe      N/A      |\n",
      "|    0   N/A  N/A           31280    C+G   ...tware\\Current\\LogiOverlay.exe      N/A      |\n",
      "|    0   N/A  N/A           32124    C+G   C:\\Windows\\explorer.exe               N/A      |\n",
      "|    0   N/A  N/A           33044    C+G   ...IA app\\CEF\\NVIDIA Overlay.exe      N/A      |\n",
      "+-----------------------------------------------------------------------------------------+\n"
     ]
    }
   ],
   "source": [
    "!nvidia-smi"
   ]
  },
  {
   "cell_type": "code",
   "execution_count": 2,
   "metadata": {},
   "outputs": [],
   "source": [
    "import os\n",
    "from pprint import pprint\n",
    "import matplotlib.pyplot as plt\n",
    "\n",
    "import torch\n",
    "import torch.nn as nn\n",
    "import torch.optim as optim\n",
    "from torch.optim.lr_scheduler import StepLR, CosineAnnealingLR\n",
    "from torch.utils.data import DataLoader\n",
    "from torchvision.transforms import v2\n",
    "from torchvision.transforms.functional import InterpolationMode\n",
    "from torchinfo import summary\n",
    "\n",
    "import medmnist\n",
    "from medmnist import INFO\n",
    "\n",
    "import src.medmnist_dataset as md\n",
    "from src.architectures import architecture, VisionTransformer\n",
    "from src.train import train_loop, EarlyStopping\n",
    "from src.utils import compute_class_weights, custom_theme"
   ]
  },
  {
   "cell_type": "code",
   "execution_count": 3,
   "metadata": {},
   "outputs": [
    {
     "name": "stdout",
     "output_type": "stream",
     "text": [
      "Device: cuda\n"
     ]
    }
   ],
   "source": [
    "# Set the global device\n",
    "device = torch.device(\"cuda\" if torch.cuda.is_available() else \"cpu\")\n",
    "print(f\"Device: {device}\")"
   ]
  },
  {
   "cell_type": "code",
   "execution_count": 4,
   "metadata": {},
   "outputs": [],
   "source": [
    "# Get CWD\n",
    "CWD = os.getcwd()"
   ]
  },
  {
   "cell_type": "code",
   "execution_count": 5,
   "metadata": {},
   "outputs": [
    {
     "name": "stdout",
     "output_type": "stream",
     "text": [
      "3.0.2\n"
     ]
    }
   ],
   "source": [
    "print(medmnist.__version__)"
   ]
  },
  {
   "cell_type": "markdown",
   "metadata": {},
   "source": [
    "# Data"
   ]
  },
  {
   "cell_type": "markdown",
   "metadata": {},
   "source": [
    "## Data Info"
   ]
  },
  {
   "cell_type": "code",
   "execution_count": 6,
   "metadata": {},
   "outputs": [],
   "source": [
    "avaliable_datasets = [\"pathmnist\", \"dermamnist\", \\\n",
    "                    \"octmnist\", \"pneumoniamnist\", \"breastmnist\", \\\n",
    "                    \"bloodmnist\", \"tissuemnist\", \"organamnist\", \\\n",
    "                    \"organcmnist\", \"organsmnist\"] # \"retinamnist\", \"chestmnist\"]"
   ]
  },
  {
   "cell_type": "code",
   "execution_count": 7,
   "metadata": {},
   "outputs": [
    {
     "name": "stdout",
     "output_type": "stream",
     "text": [
      "----------------------------------------------------------------------------------------------------\n",
      "Dataset: pathmnist\n",
      "Python: PathMNIST\n",
      "Task: multi-class\n",
      "Number of classes: 9\n",
      "Channels: 3\n",
      "Classes:\n",
      "{'0': 'adipose',\n",
      " '1': 'background',\n",
      " '2': 'debris',\n",
      " '3': 'lymphocytes',\n",
      " '4': 'mucus',\n",
      " '5': 'smooth muscle',\n",
      " '6': 'normal colon mucosa',\n",
      " '7': 'cancer-associated stroma',\n",
      " '8': 'colorectal adenocarcinoma epithelium'}\n",
      "----------------------------------------------------------------------------------------------------\n",
      "Dataset: dermamnist\n",
      "Python: DermaMNIST\n",
      "Task: multi-class\n",
      "Number of classes: 7\n",
      "Channels: 3\n",
      "Classes:\n",
      "{'0': 'actinic keratoses and intraepithelial carcinoma',\n",
      " '1': 'basal cell carcinoma',\n",
      " '2': 'benign keratosis-like lesions',\n",
      " '3': 'dermatofibroma',\n",
      " '4': 'melanoma',\n",
      " '5': 'melanocytic nevi',\n",
      " '6': 'vascular lesions'}\n",
      "----------------------------------------------------------------------------------------------------\n",
      "Dataset: octmnist\n",
      "Python: OCTMNIST\n",
      "Task: multi-class\n",
      "Number of classes: 4\n",
      "Channels: 1\n",
      "Classes:\n",
      "{'0': 'choroidal neovascularization',\n",
      " '1': 'diabetic macular edema',\n",
      " '2': 'drusen',\n",
      " '3': 'normal'}\n",
      "----------------------------------------------------------------------------------------------------\n",
      "Dataset: pneumoniamnist\n",
      "Python: PneumoniaMNIST\n",
      "Task: binary-class\n",
      "Number of classes: 2\n",
      "Channels: 1\n",
      "Classes:\n",
      "{'0': 'normal', '1': 'pneumonia'}\n",
      "----------------------------------------------------------------------------------------------------\n",
      "Dataset: breastmnist\n",
      "Python: BreastMNIST\n",
      "Task: binary-class\n",
      "Number of classes: 2\n",
      "Channels: 1\n",
      "Classes:\n",
      "{'0': 'malignant', '1': 'normal, benign'}\n",
      "----------------------------------------------------------------------------------------------------\n",
      "Dataset: bloodmnist\n",
      "Python: BloodMNIST\n",
      "Task: multi-class\n",
      "Number of classes: 8\n",
      "Channels: 3\n",
      "Classes:\n",
      "{'0': 'basophil',\n",
      " '1': 'eosinophil',\n",
      " '2': 'erythroblast',\n",
      " '3': 'immature granulocytes(myelocytes, metamyelocytes and promyelocytes)',\n",
      " '4': 'lymphocyte',\n",
      " '5': 'monocyte',\n",
      " '6': 'neutrophil',\n",
      " '7': 'platelet'}\n",
      "----------------------------------------------------------------------------------------------------\n",
      "Dataset: tissuemnist\n",
      "Python: TissueMNIST\n",
      "Task: multi-class\n",
      "Number of classes: 8\n",
      "Channels: 1\n",
      "Classes:\n",
      "{'0': 'Collecting Duct, Connecting Tubule',\n",
      " '1': 'Distal Convoluted Tubule',\n",
      " '2': 'Glomerular endothelial cells',\n",
      " '3': 'Interstitial endothelial cells',\n",
      " '4': 'Leukocytes',\n",
      " '5': 'Podocytes',\n",
      " '6': 'Proximal Tubule Segments',\n",
      " '7': 'Thick Ascending Limb'}\n",
      "----------------------------------------------------------------------------------------------------\n",
      "Dataset: organamnist\n",
      "Python: OrganAMNIST\n",
      "Task: multi-class\n",
      "Number of classes: 11\n",
      "Channels: 1\n",
      "Classes:\n",
      "{'0': 'bladder',\n",
      " '1': 'femur-left',\n",
      " '10': 'spleen',\n",
      " '2': 'femur-right',\n",
      " '3': 'heart',\n",
      " '4': 'kidney-left',\n",
      " '5': 'kidney-right',\n",
      " '6': 'liver',\n",
      " '7': 'lung-left',\n",
      " '8': 'lung-right',\n",
      " '9': 'pancreas'}\n",
      "----------------------------------------------------------------------------------------------------\n",
      "Dataset: organcmnist\n",
      "Python: OrganCMNIST\n",
      "Task: multi-class\n",
      "Number of classes: 11\n",
      "Channels: 1\n",
      "Classes:\n",
      "{'0': 'bladder',\n",
      " '1': 'femur-left',\n",
      " '10': 'spleen',\n",
      " '2': 'femur-right',\n",
      " '3': 'heart',\n",
      " '4': 'kidney-left',\n",
      " '5': 'kidney-right',\n",
      " '6': 'liver',\n",
      " '7': 'lung-left',\n",
      " '8': 'lung-right',\n",
      " '9': 'pancreas'}\n",
      "----------------------------------------------------------------------------------------------------\n",
      "Dataset: organsmnist\n",
      "Python: OrganSMNIST\n",
      "Task: multi-class\n",
      "Number of classes: 11\n",
      "Channels: 1\n",
      "Classes:\n",
      "{'0': 'bladder',\n",
      " '1': 'femur-left',\n",
      " '10': 'spleen',\n",
      " '2': 'femur-right',\n",
      " '3': 'heart',\n",
      " '4': 'kidney-left',\n",
      " '5': 'kidney-right',\n",
      " '6': 'liver',\n",
      " '7': 'lung-left',\n",
      " '8': 'lung-right',\n",
      " '9': 'pancreas'}\n"
     ]
    }
   ],
   "source": [
    "sample_counts = []\n",
    "\n",
    "for dataset_name in avaliable_datasets:\n",
    "    \n",
    "    info = INFO[dataset_name]\n",
    "    print(f\"-\"*100)\n",
    "    print(f\"Dataset: {dataset_name}\")\n",
    "    print(f\"Python: {info['python_class']}\")\n",
    "    print(f\"Task: {info['task']}\")\n",
    "    print(f\"Number of classes: {len(info['label'])}\")\n",
    "    print(f\"Channels: {info['n_channels']}\")\n",
    "    print(\"Classes:\")\n",
    "    pprint(info['label'])\n",
    "\n",
    "    sample_counts.append(info[\"n_samples\"][\"train\"])"
   ]
  },
  {
   "cell_type": "code",
   "execution_count": 8,
   "metadata": {},
   "outputs": [
    {
     "data": {
      "image/png": "[encoded data removed]",
      "text/plain": [
       "<Figure size 800x800 with 1 Axes>"
      ]
     },
     "metadata": {},
     "output_type": "display_data"
    }
   ],
   "source": [
    "# Create a pie chart\n",
    "plt.figure(figsize=(8, 8))\n",
    "plt.pie(\n",
    "    sample_counts,\n",
    "    labels              = avaliable_datasets,\n",
    "    autopct             = \"%1.1f%%\",\n",
    "    startangle          = 140,\n",
    "    colors              = plt.cm.Paired.colors,\n",
    "    wedgeprops          = {\"edgecolor\": \"black\"}\n",
    ")\n",
    "\n",
    "# Add a title\n",
    "plt.title(\"Dataset Proportions\")\n",
    "\n",
    "# Show the plot\n",
    "plt.show()"
   ]
  },
  {
   "cell_type": "markdown",
   "metadata": {},
   "source": [
    "## Data Download"
   ]
  },
  {
   "cell_type": "code",
   "execution_count": 9,
   "metadata": {},
   "outputs": [
    {
     "name": "stdout",
     "output_type": "stream",
     "text": [
      "File d:\\AI\\med-mnist\\datasets\\28\\pathmnist_28.npz already exists. Skipping download.\n",
      "File d:\\AI\\med-mnist\\datasets\\28\\dermamnist_28.npz already exists. Skipping download.\n",
      "File d:\\AI\\med-mnist\\datasets\\28\\octmnist_28.npz already exists. Skipping download.\n",
      "File d:\\AI\\med-mnist\\datasets\\28\\pneumoniamnist_28.npz already exists. Skipping download.\n",
      "File d:\\AI\\med-mnist\\datasets\\28\\breastmnist_28.npz already exists. Skipping download.\n",
      "File d:\\AI\\med-mnist\\datasets\\28\\bloodmnist_28.npz already exists. Skipping download.\n",
      "File d:\\AI\\med-mnist\\datasets\\28\\tissuemnist_28.npz already exists. Skipping download.\n",
      "File d:\\AI\\med-mnist\\datasets\\28\\organamnist_28.npz already exists. Skipping download.\n",
      "File d:\\AI\\med-mnist\\datasets\\28\\organcmnist_28.npz already exists. Skipping download.\n",
      "File d:\\AI\\med-mnist\\datasets\\28\\organsmnist_28.npz already exists. Skipping download.\n"
     ]
    }
   ],
   "source": [
    "image_size = 28 # 28, 64, 128 or 256\n",
    "datasets_path = os.path.join(CWD, \"datasets\", str(image_size))\n",
    "os.makedirs(datasets_path, exist_ok=True)\n",
    "\n",
    "md.download(avaliable_datasets, datasets_path, image_size)"
   ]
  },
  {
   "cell_type": "markdown",
   "metadata": {},
   "source": [
    "## Dataset Unification"
   ]
  },
  {
   "cell_type": "code",
   "execution_count": 10,
   "metadata": {},
   "outputs": [
    {
     "name": "stdout",
     "output_type": "stream",
     "text": [
      "File d:\\AI\\med-mnist\\datasets\\28\\organs_28.npz already exists.\n"
     ]
    }
   ],
   "source": [
    "organ_datasets = [\"organamnist\", \"organcmnist\", \"organsmnist\"] # These are the same - have the same classes\n",
    "\n",
    "md.unify_data(\n",
    "    organ_datasets,\n",
    "    are_unique_classes      = False,\n",
    "    image_size              = image_size,\n",
    "    datasets_path           = datasets_path,\n",
    "    save_path               = datasets_path,\n",
    "    filename                = f\"organs_{image_size}\"\n",
    ");"
   ]
  },
  {
   "cell_type": "code",
   "execution_count": 11,
   "metadata": {},
   "outputs": [
    {
     "name": "stdout",
     "output_type": "stream",
     "text": [
      "File d:\\AI\\med-mnist\\datasets\\28\\unified_28.npz already exists.\n"
     ]
    }
   ],
   "source": [
    "new_avaliable_datasets = [\"organs\", \"pathmnist\", \"dermamnist\", \"octmnist\", \"pneumoniamnist\", \\\n",
    "                            \"breastmnist\", \"bloodmnist\", \"tissuemnist\"]\n",
    "\n",
    "md.unify_data(\n",
    "    new_avaliable_datasets,\n",
    "    are_unique_classes      = True,\n",
    "    image_size              = image_size,\n",
    "    datasets_path           = datasets_path,\n",
    "    save_path               = datasets_path,\n",
    "    filename                = f\"unified_{image_size}\"\n",
    ");"
   ]
  },
  {
   "cell_type": "markdown",
   "metadata": {},
   "source": [
    "## Dataset"
   ]
  },
  {
   "cell_type": "code",
   "execution_count": 12,
   "metadata": {},
   "outputs": [],
   "source": [
    "transform = v2.Compose(\n",
    "    [\n",
    "        v2.ToDtype(torch.float32, scale=True),\n",
    "        v2.Normalize([0.5, 0.5, 0.5], [0.5, 0.5, 0.5])\n",
    "    ]\n",
    ")\n",
    "\n",
    "# Training augmentations\n",
    "augmentation = v2.Compose(\n",
    "    [\n",
    "        transform,\n",
    "        v2.RandomHorizontalFlip(p=0.5),\n",
    "        v2.RandomVerticalFlip(p=0.5),\n",
    "        v2.Pad(round(image_size/10), padding_mode=\"reflect\"),\n",
    "        v2.RandomRotation(degrees=20, interpolation=InterpolationMode.BILINEAR),\n",
    "        v2.CenterCrop(size=(image_size, image_size))\n",
    "    ]\n",
    ")"
   ]
  },
  {
   "cell_type": "code",
   "execution_count": 13,
   "metadata": {},
   "outputs": [],
   "source": [
    "unified_dataset_path = os.path.join(datasets_path, f\"unified_{image_size}.npz\")\n",
    "\n",
    "train_dataset = md.NPZDataset(\n",
    "    unified_dataset_path,\n",
    "    split           = \"train\",\n",
    "    transform       = augmentation,\n",
    "    mmap_mode       = None\n",
    ")\n",
    "\n",
    "validation_dataset = md.NPZDataset(\n",
    "    unified_dataset_path,\n",
    "    split           = \"val\",\n",
    "    transform       = transform,\n",
    "    mmap_mode       = None\n",
    ")"
   ]
  },
  {
   "cell_type": "markdown",
   "metadata": {},
   "source": [
    "## Data Loader"
   ]
  },
  {
   "cell_type": "code",
   "execution_count": null,
   "metadata": {},
   "outputs": [],
   "source": [
    "batch_size = 512\n",
    "num_workers = 8"
   ]
  },
  {
   "cell_type": "code",
   "execution_count": 15,
   "metadata": {},
   "outputs": [],
   "source": [
    "if num_workers > 0:\n",
    "    prefetch_factor = 50\n",
    "    persistent_workers = True\n",
    "    pin_memory = True\n",
    "else:\n",
    "    prefetch_factor = None\n",
    "    persistent_workers = False\n",
    "    pin_memory = False\n",
    "    \n",
    "\n",
    "train_loader = DataLoader(\n",
    "    train_dataset,\n",
    "    batch_size          = batch_size, \n",
    "    shuffle             = True,\n",
    "    num_workers         = num_workers,\n",
    "    prefetch_factor     = prefetch_factor,\n",
    "    persistent_workers  = persistent_workers,\n",
    "    pin_memory          = pin_memory\n",
    ")\n",
    "\n",
    "validation_loader = DataLoader(\n",
    "    validation_dataset,\n",
    "    batch_size          = batch_size, \n",
    "    shuffle             = False,\n",
    "    num_workers         = num_workers,\n",
    "    prefetch_factor     = prefetch_factor,\n",
    "    persistent_workers  = persistent_workers,\n",
    "    pin_memory          = pin_memory\n",
    ")"
   ]
  },
  {
   "cell_type": "markdown",
   "metadata": {},
   "source": [
    "### Test Data Loader"
   ]
  },
  {
   "cell_type": "code",
   "execution_count": 16,
   "metadata": {},
   "outputs": [
    {
     "data": {
      "image/png": "[encoded data removed]",
      "text/plain": [
       "<Figure size 1200x500 with 10 Axes>"
      ]
     },
     "metadata": {},
     "output_type": "display_data"
    }
   ],
   "source": [
    "# Get one batch from train_loader\n",
    "batch = next(iter(train_loader))\n",
    "images, labels = batch  # Unpack batch\n",
    "\n",
    "# # Denormalize for visualization\n",
    "mean = torch.tensor([0.5, 0.5, 0.5]).view(3, 1, 1)  # Shape (C, 1, 1)\n",
    "std = torch.tensor([0.5, 0.5, 0.5]).view(3, 1, 1)\n",
    "\n",
    "# Convert images back to [0, 1] range for visualization\n",
    "images = images * std + mean  \n",
    "images = torch.clamp(images, 0, 1)  # Ensure values stay in range\n",
    "\n",
    "# Plot some images\n",
    "fig, axes = plt.subplots(2, 5, figsize=(12, 5))  # Grid 2x5\n",
    "for i, ax in enumerate(axes.flat):\n",
    "    img = images[i].permute(1, 2, 0).cpu().numpy()  # Convert (C, H, W) → (H, W, C)\n",
    "    ax.imshow(img)\n",
    "    ax.axis(\"off\")\n",
    "\n",
    "plt.show()"
   ]
  },
  {
   "cell_type": "markdown",
   "metadata": {},
   "source": [
    "# Training"
   ]
  },
  {
   "cell_type": "markdown",
   "metadata": {},
   "source": [
    "## Parameters"
   ]
  },
  {
   "cell_type": "code",
   "execution_count": 17,
   "metadata": {},
   "outputs": [
    {
     "name": "stdout",
     "output_type": "stream",
     "text": [
      "Counts per class: Counter({43: 53075, 30: 46026, 49: 39203, 27: 33484, 50: 24608, 46: 15406, 19: 12885, 6: 12614, 16: 12182, 47: 11789, 14: 10401, 13: 10360, 28: 10213, 12: 9509, 18: 9401, 11: 9366, 15: 8006, 17: 7886, 44: 7814, 29: 7754, 48: 7705, 10: 6689, 9: 6208, 4: 6183, 5: 6106, 45: 5866, 8: 5754, 7: 5662, 25: 4693, 0: 4252, 32: 3494, 3: 2795, 1: 2639, 2: 2566, 41: 2330, 36: 2181, 38: 2026, 42: 1643, 31: 1214, 37: 1085, 40: 993, 35: 852, 39: 849, 24: 779, 22: 769, 34: 399, 21: 359, 20: 228, 33: 147, 26: 99, 23: 80})\n"
     ]
    },
    {
     "data": {
      "image/png": "[encoded data removed]",
      "text/plain": [
       "<Figure size 1000x400 with 2 Axes>"
      ]
     },
     "metadata": {},
     "output_type": "display_data"
    }
   ],
   "source": [
    "temp_dataset = md.NPZDataset(\n",
    "    unified_dataset_path,\n",
    "    split           = \"train\",\n",
    "    mmap_mode       = \"r\"\n",
    ")\n",
    "\n",
    "class_weights_tensor = compute_class_weights(temp_dataset)\n",
    "del temp_dataset"
   ]
  },
  {
   "cell_type": "code",
   "execution_count": 18,
   "metadata": {},
   "outputs": [],
   "source": [
    "epochs          = 50\n",
    "arch            = \"vit\"\n",
    "\n",
    "optimizer_name  = \"AdamW\"\n",
    "lr              = 1e-1\n",
    "momentum        = 1\n",
    "weight_decay    = 1e-4\n",
    "betas           = (0.9, 0.999)\n",
    "amsgrad         = True\n",
    "\n",
    "stat_to_track   = \"val_loss\" # \"train_loss\" \"train_acc\" \"val_loss\" \"val_acc\"\n",
    "mode            = \"min\" # \"min\" \"max\"\n",
    "patience        = 4\n",
    "delta           = 5e-2\n",
    "delay           = 8"
   ]
  },
  {
   "cell_type": "code",
   "execution_count": 19,
   "metadata": {},
   "outputs": [],
   "source": [
    "num_classes     = 51\n",
    "patch_size      = 4\n",
    "depth           = 1 #8\n",
    "num_heads       = 1 #8\n",
    "mlp_ratio       = 1 #4\n",
    "dropout         = 0.1"
   ]
  },
  {
   "cell_type": "markdown",
   "metadata": {},
   "source": [
    "## Model"
   ]
  },
  {
   "cell_type": "code",
   "execution_count": 20,
   "metadata": {},
   "outputs": [],
   "source": [
    "import lightning as L\n",
    "from torch.nn import functional as F\n",
    "import torchmetrics\n",
    "\n",
    "class LightningModel(L.LightningModule):\n",
    "    def __init__(self):\n",
    "        super().__init__()\n",
    "        self.save_hyperparameters()  # (Optional) to track hyperparams in logs\n",
    "\n",
    "        # Create the model\n",
    "        projection_dim = patch_size * patch_size * 3  # Example logic\n",
    "        self.model = VisionTransformer(\n",
    "            image_size      = image_size,\n",
    "            patch_size      = patch_size,\n",
    "            in_channels     = 3,\n",
    "            num_classes     = num_classes,\n",
    "            projection_dim  = projection_dim,\n",
    "            depth           = depth,\n",
    "            num_heads       = num_heads,\n",
    "            mlp_ratio       = mlp_ratio,\n",
    "            dropout         = dropout\n",
    "        )\n",
    "\n",
    "        # Choose optimizer\n",
    "        if optimizer_name == \"SGD\":\n",
    "            self.optimizer = optim.SGD(\n",
    "                self.model.parameters(),\n",
    "                lr=lr,\n",
    "                momentum        = momentum,\n",
    "                weight_decay    = weight_decay\n",
    "            )\n",
    "        elif optimizer_name == \"Adam\":\n",
    "            self.optimizer = optim.Adam(\n",
    "                self.model.parameters(),\n",
    "                lr              = lr,\n",
    "                weight_decay    = weight_decay\n",
    "            )\n",
    "        elif optimizer_name == \"AdamW\":\n",
    "            self.optimizer = optim.AdamW(\n",
    "                self.model.parameters(),\n",
    "                lr              = lr,\n",
    "                weight_decay    = weight_decay,\n",
    "                betas           = betas,\n",
    "                amsgrad         = amsgrad\n",
    "            )\n",
    "        else:\n",
    "            raise ValueError(f\"Unknown optimizer: {optimizer_name}\")\n",
    "\n",
    "        # Learning rate scheduler\n",
    "        self.lr_scheduler = CosineAnnealingLR(self.optimizer, T_max=epochs)\n",
    "\n",
    "        # Metrics\n",
    "        # For multi-class classification with 51 classes:\n",
    "        self.train_acc = torchmetrics.Accuracy(task=\"multiclass\", num_classes=51)\n",
    "        self.val_acc = torchmetrics.Accuracy(task=\"multiclass\", num_classes=51)\n",
    "\n",
    "    def forward(self, x):\n",
    "        return self.model(x)\n",
    "\n",
    "    def configure_optimizers(self):\n",
    "        # Return in Lightning's format\n",
    "        return [self.optimizer], [self.lr_scheduler]\n",
    "\n",
    "    def training_step(self, batch, batch_idx):\n",
    "        inputs, labels = batch\n",
    "        logits = self(inputs)\n",
    "\n",
    "        # Cross-entropy expects (logits, target)\n",
    "        loss = F.cross_entropy(\n",
    "            logits,\n",
    "            labels,\n",
    "            weight=class_weights_tensor.to(device)\n",
    "        )\n",
    "\n",
    "        # Update & log training accuracy\n",
    "        acc = self.train_acc(logits, labels)\n",
    "        self.log(\"train_loss\", loss, on_step=False, on_epoch=True, prog_bar=True)\n",
    "        self.log(\"train_acc\", acc, on_step=False, on_epoch=True, prog_bar=True)\n",
    "\n",
    "        return loss\n",
    "\n",
    "    def validation_step(self, batch, batch_idx):\n",
    "        inputs, labels  = batch\n",
    "        logits          = self(inputs)\n",
    "        val_loss        = F.cross_entropy(logits, labels)\n",
    "\n",
    "        # Update & log validation accuracy\n",
    "        acc             = self.val_acc(logits, labels)\n",
    "        \n",
    "        self.log(\"val_loss\", val_loss, prog_bar=True)\n",
    "        self.log(\"val_acc\", acc, prog_bar=True)\n",
    "\n",
    "        return val_loss\n",
    "\n",
    "    def test_step(self, batch, batch_idx):\n",
    "        inputs, labels  = batch\n",
    "        logits          = self(inputs)\n",
    "        test_loss       = F.cross_entropy(logits, labels)\n",
    "        test_acc        = self.test_acc(logits, labels)\n",
    "\n",
    "        self.log(\"test_loss\", test_loss, prog_bar=True)\n",
    "        self.log(\"test_acc\", test_acc, prog_bar=True)\n",
    "\n",
    "        return test_loss\n",
    "\n",
    "    def predict_step(self, batch, batch_idx, dataloader_idx=0):\n",
    "        inputs, labels = batch\n",
    "        return self(inputs)\n",
    "\n",
    "    def get_model(self):\n",
    "        return self.model"
   ]
  },
  {
   "cell_type": "code",
   "execution_count": 21,
   "metadata": {},
   "outputs": [],
   "source": [
    "model = LightningModel()"
   ]
  },
  {
   "cell_type": "code",
   "execution_count": 22,
   "metadata": {},
   "outputs": [
    {
     "data": {
      "text/plain": [
       "===============================================================================================\n",
       "Layer (type:depth-idx)                        Output Shape              Param #\n",
       "===============================================================================================\n",
       "VisionTransformer                             [512, 51]                 2,448\n",
       "├─PatchEmbedding: 1-1                         [512, 49, 48]             --\n",
       "│    └─Patchify: 2-1                          [512, 49, 48]             --\n",
       "│    └─Linear: 2-2                            [512, 49, 48]             2,352\n",
       "├─Dropout: 1-2                                [512, 50, 48]             --\n",
       "├─Sequential: 1-3                             [512, 50, 48]             --\n",
       "│    └─TransformerBlock: 2-3                  [512, 50, 48]             --\n",
       "│    │    └─LayerNorm: 3-1                    [512, 50, 48]             96\n",
       "│    │    └─MultiHeadSelfAttention: 3-2       [512, 50, 48]             9,408\n",
       "│    │    └─Dropout: 3-3                      [512, 50, 48]             --\n",
       "│    │    └─LayerNorm: 3-4                    [512, 50, 48]             96\n",
       "│    │    └─Sequential: 3-5                   [512, 50, 48]             4,704\n",
       "│    │    └─Dropout: 3-6                      [512, 50, 48]             --\n",
       "├─LayerNorm: 1-4                              [512, 50, 48]             96\n",
       "├─Linear: 1-5                                 [512, 51]                 2,499\n",
       "===============================================================================================\n",
       "Total params: 21,699\n",
       "Trainable params: 21,699\n",
       "Non-trainable params: 0\n",
       "Total mult-adds (M): 9.86\n",
       "===============================================================================================\n",
       "Input size (MB): 4.82\n",
       "Forward/backward pass size (MB): 98.32\n",
       "Params size (MB): 0.08\n",
       "Estimated Total Size (MB): 103.21\n",
       "==============================================================================================="
      ]
     },
     "execution_count": 22,
     "metadata": {},
     "output_type": "execute_result"
    }
   ],
   "source": [
    "summary(\n",
    "    model.get_model(),\n",
    "    input_size  = (batch_size, 3, image_size, image_size),\n",
    "    mode        = \"train\"\n",
    ")"
   ]
  },
  {
   "cell_type": "code",
   "execution_count": 23,
   "metadata": {},
   "outputs": [],
   "source": [
    "models_dir_path = os.path.join(CWD, \"models\")\n",
    "os.makedirs(models_dir_path, exist_ok=True)\n",
    "\n",
    "model_filename = f\"{arch}_sz{image_size}_d{depth}_h{num_heads}_mlr{mlp_ratio}\""
   ]
  },
  {
   "cell_type": "code",
   "execution_count": 24,
   "metadata": {},
   "outputs": [
    {
     "name": "stderr",
     "output_type": "stream",
     "text": [
      "GPU available: True (cuda), used: True\n",
      "TPU available: False, using: 0 TPU cores\n",
      "HPU available: False, using: 0 HPUs\n",
      "c:\\Users\\J\\miniconda3\\envs\\med-mnist\\lib\\site-packages\\lightning\\pytorch\\trainer\\connectors\\logger_connector\\logger_connector.py:76: Starting from v1.9.0, `tensorboardX` has been removed as a dependency of the `lightning.pytorch` package, due to potential conflicts with other packages in the ML ecosystem. For this reason, `logger=True` will use `CSVLogger` as the default logger, unless the `tensorboard` or `tensorboardX` packages are found. Please `pip install lightning[extra]` or one of them to enable TensorBoard support by default\n"
     ]
    }
   ],
   "source": [
    "from lightning.pytorch import Trainer\n",
    "from lightning.pytorch.callbacks import EarlyStopping, ModelCheckpoint, RichProgressBar\n",
    "\n",
    "\n",
    "early_stopping = EarlyStopping(\n",
    "    monitor             = stat_to_track,\n",
    "    mode                = mode,\n",
    "    patience            = patience,\n",
    "    min_delta           = delta\n",
    ")\n",
    "\n",
    "checkpoint_callback = ModelCheckpoint(\n",
    "    dirpath             = models_dir_path,\n",
    "    filename            = model_filename,\n",
    "    monitor             = stat_to_track,\n",
    "    mode                = mode,\n",
    "    save_top_k          = 1,\n",
    "    save_last           = True\n",
    ")\n",
    "\n",
    "progress_bar = RichProgressBar(\n",
    "    leave               = True,\n",
    "    # theme               = custom_theme\n",
    ")\n",
    "\n",
    "trainer = Trainer(\n",
    "    devices             = -1,\n",
    "    min_epochs          = delay,\n",
    "    max_epochs          = epochs,\n",
    "    callbacks           = [early_stopping, checkpoint_callback, RichProgressBar()],\n",
    "    enable_model_summary= True\n",
    ")"
   ]
  },
  {
   "cell_type": "code",
   "execution_count": 25,
   "metadata": {},
   "outputs": [
    {
     "name": "stderr",
     "output_type": "stream",
     "text": [
      "c:\\Users\\J\\miniconda3\\envs\\med-mnist\\lib\\site-packages\\lightning\\pytorch\\callbacks\\model_checkpoint.py:654: Checkpoint directory D:\\AI\\med-mnist\\models exists and is not empty.\n",
      "LOCAL_RANK: 0 - CUDA_VISIBLE_DEVICES: [0]\n"
     ]
    },
    {
     "data": {
      "text/html": [
       "<pre style=\"white-space:pre;overflow-x:auto;line-height:normal;font-family:Menlo,'DejaVu Sans Mono',consolas,'Courier New',monospace\">┏━━━┳━━━━━━━━━━━┳━━━━━━━━━━━━━━━━━━━━┳━━━━━━━━┳━━━━━━━┓\n",
       "┃<span style=\"color: #800080; text-decoration-color: #800080; font-weight: bold\">   </span>┃<span style=\"color: #800080; text-decoration-color: #800080; font-weight: bold\"> Name      </span>┃<span style=\"color: #800080; text-decoration-color: #800080; font-weight: bold\"> Type               </span>┃<span style=\"color: #800080; text-decoration-color: #800080; font-weight: bold\"> Params </span>┃<span style=\"color: #800080; text-decoration-color: #800080; font-weight: bold\"> Mode  </span>┃\n",
       "┡━━━╇━━━━━━━━━━━╇━━━━━━━━━━━━━━━━━━━━╇━━━━━━━━╇━━━━━━━┩\n",
       "│<span style=\"color: #7f7f7f; text-decoration-color: #7f7f7f\"> 0 </span>│ model     │ VisionTransformer  │ 21.7 K │ train │\n",
       "│<span style=\"color: #7f7f7f; text-decoration-color: #7f7f7f\"> 1 </span>│ train_acc │ MulticlassAccuracy │      0 │ train │\n",
       "│<span style=\"color: #7f7f7f; text-decoration-color: #7f7f7f\"> 2 </span>│ val_acc   │ MulticlassAccuracy │      0 │ train │\n",
       "└───┴───────────┴────────────────────┴────────┴───────┘\n",
       "</pre>\n"
      ],
      "text/plain": [
       "┏━━━┳━━━━━━━━━━━┳━━━━━━━━━━━━━━━━━━━━┳━━━━━━━━┳━━━━━━━┓\n",
       "┃\u001b[1;35m \u001b[0m\u001b[1;35m \u001b[0m\u001b[1;35m \u001b[0m┃\u001b[1;35m \u001b[0m\u001b[1;35mName     \u001b[0m\u001b[1;35m \u001b[0m┃\u001b[1;35m \u001b[0m\u001b[1;35mType              \u001b[0m\u001b[1;35m \u001b[0m┃\u001b[1;35m \u001b[0m\u001b[1;35mParams\u001b[0m\u001b[1;35m \u001b[0m┃\u001b[1;35m \u001b[0m\u001b[1;35mMode \u001b[0m\u001b[1;35m \u001b[0m┃\n",
       "┡━━━╇━━━━━━━━━━━╇━━━━━━━━━━━━━━━━━━━━╇━━━━━━━━╇━━━━━━━┩\n",
       "│\u001b[2m \u001b[0m\u001b[2m0\u001b[0m\u001b[2m \u001b[0m│ model     │ VisionTransformer  │ 21.7 K │ train │\n",
       "│\u001b[2m \u001b[0m\u001b[2m1\u001b[0m\u001b[2m \u001b[0m│ train_acc │ MulticlassAccuracy │      0 │ train │\n",
       "│\u001b[2m \u001b[0m\u001b[2m2\u001b[0m\u001b[2m \u001b[0m│ val_acc   │ MulticlassAccuracy │      0 │ train │\n",
       "└───┴───────────┴────────────────────┴────────┴───────┘\n"
      ]
     },
     "metadata": {},
     "output_type": "display_data"
    },
    {
     "data": {
      "text/html": [
       "<pre style=\"white-space:pre;overflow-x:auto;line-height:normal;font-family:Menlo,'DejaVu Sans Mono',consolas,'Courier New',monospace\"><span style=\"font-weight: bold\">Trainable params</span>: 21.7 K                                                                                           \n",
       "<span style=\"font-weight: bold\">Non-trainable params</span>: 0                                                                                            \n",
       "<span style=\"font-weight: bold\">Total params</span>: 21.7 K                                                                                               \n",
       "<span style=\"font-weight: bold\">Total estimated model params size (MB)</span>: 0                                                                          \n",
       "<span style=\"font-weight: bold\">Modules in train mode</span>: 21                                                                                          \n",
       "<span style=\"font-weight: bold\">Modules in eval mode</span>: 0                                                                                            \n",
       "</pre>\n"
      ],
      "text/plain": [
       "\u001b[1mTrainable params\u001b[0m: 21.7 K                                                                                           \n",
       "\u001b[1mNon-trainable params\u001b[0m: 0                                                                                            \n",
       "\u001b[1mTotal params\u001b[0m: 21.7 K                                                                                               \n",
       "\u001b[1mTotal estimated model params size (MB)\u001b[0m: 0                                                                          \n",
       "\u001b[1mModules in train mode\u001b[0m: 21                                                                                          \n",
       "\u001b[1mModules in eval mode\u001b[0m: 0                                                                                            \n"
      ]
     },
     "metadata": {},
     "output_type": "display_data"
    },
    {
     "data": {
      "application/vnd.jupyter.widget-view+json": {
       "model_id": "31e10b67061c4d4583eef2157e2e5866",
       "version_major": 2,
       "version_minor": 0
      },
      "text/plain": [
       "Output()"
      ]
     },
     "metadata": {},
     "output_type": "display_data"
    },
    {
     "name": "stderr",
     "output_type": "stream",
     "text": [
      "\n",
      "Detected KeyboardInterrupt, attempting graceful shutdown ...\n"
     ]
    },
    {
     "data": {
      "text/html": [
       "<pre style=\"white-space:pre;overflow-x:auto;line-height:normal;font-family:Menlo,'DejaVu Sans Mono',consolas,'Courier New',monospace\"></pre>\n"
      ],
      "text/plain": []
     },
     "metadata": {},
     "output_type": "display_data"
    },
    {
     "ename": "NameError",
     "evalue": "name 'exit' is not defined",
     "output_type": "error",
     "traceback": [
      "\u001b[1;31m---------------------------------------------------------------------------\u001b[0m",
      "\u001b[1;31mKeyboardInterrupt\u001b[0m                         Traceback (most recent call last)",
      "File \u001b[1;32mc:\\Users\\J\\miniconda3\\envs\\med-mnist\\lib\\site-packages\\lightning\\pytorch\\trainer\\call.py:47\u001b[0m, in \u001b[0;36m_call_and_handle_interrupt\u001b[1;34m(trainer, trainer_fn, *args, **kwargs)\u001b[0m\n\u001b[0;32m     46\u001b[0m         \u001b[38;5;28;01mreturn\u001b[39;00m trainer\u001b[38;5;241m.\u001b[39mstrategy\u001b[38;5;241m.\u001b[39mlauncher\u001b[38;5;241m.\u001b[39mlaunch(trainer_fn, \u001b[38;5;241m*\u001b[39margs, trainer\u001b[38;5;241m=\u001b[39mtrainer, \u001b[38;5;241m*\u001b[39m\u001b[38;5;241m*\u001b[39mkwargs)\n\u001b[1;32m---> 47\u001b[0m     \u001b[38;5;28;01mreturn\u001b[39;00m trainer_fn(\u001b[38;5;241m*\u001b[39margs, \u001b[38;5;241m*\u001b[39m\u001b[38;5;241m*\u001b[39mkwargs)\n\u001b[0;32m     49\u001b[0m \u001b[38;5;28;01mexcept\u001b[39;00m _TunerExitException:\n",
      "File \u001b[1;32mc:\\Users\\J\\miniconda3\\envs\\med-mnist\\lib\\site-packages\\lightning\\pytorch\\trainer\\trainer.py:575\u001b[0m, in \u001b[0;36mTrainer._fit_impl\u001b[1;34m(self, model, train_dataloaders, val_dataloaders, datamodule, ckpt_path)\u001b[0m\n\u001b[0;32m    569\u001b[0m ckpt_path \u001b[38;5;241m=\u001b[39m \u001b[38;5;28mself\u001b[39m\u001b[38;5;241m.\u001b[39m_checkpoint_connector\u001b[38;5;241m.\u001b[39m_select_ckpt_path(\n\u001b[0;32m    570\u001b[0m     \u001b[38;5;28mself\u001b[39m\u001b[38;5;241m.\u001b[39mstate\u001b[38;5;241m.\u001b[39mfn,\n\u001b[0;32m    571\u001b[0m     ckpt_path,\n\u001b[0;32m    572\u001b[0m     model_provided\u001b[38;5;241m=\u001b[39m\u001b[38;5;28;01mTrue\u001b[39;00m,\n\u001b[0;32m    573\u001b[0m     model_connected\u001b[38;5;241m=\u001b[39m\u001b[38;5;28mself\u001b[39m\u001b[38;5;241m.\u001b[39mlightning_module \u001b[38;5;129;01mis\u001b[39;00m \u001b[38;5;129;01mnot\u001b[39;00m \u001b[38;5;28;01mNone\u001b[39;00m,\n\u001b[0;32m    574\u001b[0m )\n\u001b[1;32m--> 575\u001b[0m \u001b[38;5;28;43mself\u001b[39;49m\u001b[38;5;241;43m.\u001b[39;49m\u001b[43m_run\u001b[49m\u001b[43m(\u001b[49m\u001b[43mmodel\u001b[49m\u001b[43m,\u001b[49m\u001b[43m \u001b[49m\u001b[43mckpt_path\u001b[49m\u001b[38;5;241;43m=\u001b[39;49m\u001b[43mckpt_path\u001b[49m\u001b[43m)\u001b[49m\n\u001b[0;32m    577\u001b[0m \u001b[38;5;28;01massert\u001b[39;00m \u001b[38;5;28mself\u001b[39m\u001b[38;5;241m.\u001b[39mstate\u001b[38;5;241m.\u001b[39mstopped\n",
      "File \u001b[1;32mc:\\Users\\J\\miniconda3\\envs\\med-mnist\\lib\\site-packages\\lightning\\pytorch\\trainer\\trainer.py:982\u001b[0m, in \u001b[0;36mTrainer._run\u001b[1;34m(self, model, ckpt_path)\u001b[0m\n\u001b[0;32m    979\u001b[0m \u001b[38;5;66;03m# ----------------------------\u001b[39;00m\n\u001b[0;32m    980\u001b[0m \u001b[38;5;66;03m# RUN THE TRAINER\u001b[39;00m\n\u001b[0;32m    981\u001b[0m \u001b[38;5;66;03m# ----------------------------\u001b[39;00m\n\u001b[1;32m--> 982\u001b[0m results \u001b[38;5;241m=\u001b[39m \u001b[38;5;28;43mself\u001b[39;49m\u001b[38;5;241;43m.\u001b[39;49m\u001b[43m_run_stage\u001b[49m\u001b[43m(\u001b[49m\u001b[43m)\u001b[49m\n\u001b[0;32m    984\u001b[0m \u001b[38;5;66;03m# ----------------------------\u001b[39;00m\n\u001b[0;32m    985\u001b[0m \u001b[38;5;66;03m# POST-Training CLEAN UP\u001b[39;00m\n\u001b[0;32m    986\u001b[0m \u001b[38;5;66;03m# ----------------------------\u001b[39;00m\n",
      "File \u001b[1;32mc:\\Users\\J\\miniconda3\\envs\\med-mnist\\lib\\site-packages\\lightning\\pytorch\\trainer\\trainer.py:1026\u001b[0m, in \u001b[0;36mTrainer._run_stage\u001b[1;34m(self)\u001b[0m\n\u001b[0;32m   1025\u001b[0m \u001b[38;5;28;01mwith\u001b[39;00m torch\u001b[38;5;241m.\u001b[39mautograd\u001b[38;5;241m.\u001b[39mset_detect_anomaly(\u001b[38;5;28mself\u001b[39m\u001b[38;5;241m.\u001b[39m_detect_anomaly):\n\u001b[1;32m-> 1026\u001b[0m     \u001b[38;5;28;43mself\u001b[39;49m\u001b[38;5;241;43m.\u001b[39;49m\u001b[43mfit_loop\u001b[49m\u001b[38;5;241;43m.\u001b[39;49m\u001b[43mrun\u001b[49m\u001b[43m(\u001b[49m\u001b[43m)\u001b[49m\n\u001b[0;32m   1027\u001b[0m \u001b[38;5;28;01mreturn\u001b[39;00m \u001b[38;5;28;01mNone\u001b[39;00m\n",
      "File \u001b[1;32mc:\\Users\\J\\miniconda3\\envs\\med-mnist\\lib\\site-packages\\lightning\\pytorch\\loops\\fit_loop.py:216\u001b[0m, in \u001b[0;36m_FitLoop.run\u001b[1;34m(self)\u001b[0m\n\u001b[0;32m    215\u001b[0m \u001b[38;5;28mself\u001b[39m\u001b[38;5;241m.\u001b[39mon_advance_start()\n\u001b[1;32m--> 216\u001b[0m \u001b[38;5;28;43mself\u001b[39;49m\u001b[38;5;241;43m.\u001b[39;49m\u001b[43madvance\u001b[49m\u001b[43m(\u001b[49m\u001b[43m)\u001b[49m\n\u001b[0;32m    217\u001b[0m \u001b[38;5;28mself\u001b[39m\u001b[38;5;241m.\u001b[39mon_advance_end()\n",
      "File \u001b[1;32mc:\\Users\\J\\miniconda3\\envs\\med-mnist\\lib\\site-packages\\lightning\\pytorch\\loops\\fit_loop.py:455\u001b[0m, in \u001b[0;36m_FitLoop.advance\u001b[1;34m(self)\u001b[0m\n\u001b[0;32m    454\u001b[0m \u001b[38;5;28;01massert\u001b[39;00m \u001b[38;5;28mself\u001b[39m\u001b[38;5;241m.\u001b[39m_data_fetcher \u001b[38;5;129;01mis\u001b[39;00m \u001b[38;5;129;01mnot\u001b[39;00m \u001b[38;5;28;01mNone\u001b[39;00m\n\u001b[1;32m--> 455\u001b[0m \u001b[38;5;28;43mself\u001b[39;49m\u001b[38;5;241;43m.\u001b[39;49m\u001b[43mepoch_loop\u001b[49m\u001b[38;5;241;43m.\u001b[39;49m\u001b[43mrun\u001b[49m\u001b[43m(\u001b[49m\u001b[38;5;28;43mself\u001b[39;49m\u001b[38;5;241;43m.\u001b[39;49m\u001b[43m_data_fetcher\u001b[49m\u001b[43m)\u001b[49m\n",
      "File \u001b[1;32mc:\\Users\\J\\miniconda3\\envs\\med-mnist\\lib\\site-packages\\lightning\\pytorch\\loops\\training_epoch_loop.py:150\u001b[0m, in \u001b[0;36m_TrainingEpochLoop.run\u001b[1;34m(self, data_fetcher)\u001b[0m\n\u001b[0;32m    149\u001b[0m \u001b[38;5;28;01mtry\u001b[39;00m:\n\u001b[1;32m--> 150\u001b[0m     \u001b[38;5;28;43mself\u001b[39;49m\u001b[38;5;241;43m.\u001b[39;49m\u001b[43madvance\u001b[49m\u001b[43m(\u001b[49m\u001b[43mdata_fetcher\u001b[49m\u001b[43m)\u001b[49m\n\u001b[0;32m    151\u001b[0m     \u001b[38;5;28mself\u001b[39m\u001b[38;5;241m.\u001b[39mon_advance_end(data_fetcher)\n",
      "File \u001b[1;32mc:\\Users\\J\\miniconda3\\envs\\med-mnist\\lib\\site-packages\\lightning\\pytorch\\loops\\training_epoch_loop.py:282\u001b[0m, in \u001b[0;36m_TrainingEpochLoop.advance\u001b[1;34m(self, data_fetcher)\u001b[0m\n\u001b[0;32m    281\u001b[0m dataloader_iter \u001b[38;5;241m=\u001b[39m \u001b[38;5;28;01mNone\u001b[39;00m\n\u001b[1;32m--> 282\u001b[0m batch, _, __ \u001b[38;5;241m=\u001b[39m \u001b[38;5;28;43mnext\u001b[39;49m\u001b[43m(\u001b[49m\u001b[43mdata_fetcher\u001b[49m\u001b[43m)\u001b[49m\n\u001b[0;32m    283\u001b[0m \u001b[38;5;66;03m# TODO: we should instead use the batch_idx returned by the fetcher, however, that will require saving the\u001b[39;00m\n\u001b[0;32m    284\u001b[0m \u001b[38;5;66;03m# fetcher state so that the batch_idx is correct after restarting\u001b[39;00m\n",
      "File \u001b[1;32mc:\\Users\\J\\miniconda3\\envs\\med-mnist\\lib\\site-packages\\lightning\\pytorch\\loops\\fetchers.py:134\u001b[0m, in \u001b[0;36m_PrefetchDataFetcher.__next__\u001b[1;34m(self)\u001b[0m\n\u001b[0;32m    132\u001b[0m \u001b[38;5;28;01melif\u001b[39;00m \u001b[38;5;129;01mnot\u001b[39;00m \u001b[38;5;28mself\u001b[39m\u001b[38;5;241m.\u001b[39mdone:\n\u001b[0;32m    133\u001b[0m     \u001b[38;5;66;03m# this will run only when no pre-fetching was done.\u001b[39;00m\n\u001b[1;32m--> 134\u001b[0m     batch \u001b[38;5;241m=\u001b[39m \u001b[38;5;28;43msuper\u001b[39;49m\u001b[43m(\u001b[49m\u001b[43m)\u001b[49m\u001b[38;5;241;43m.\u001b[39;49m\u001b[38;5;21;43m__next__\u001b[39;49m\u001b[43m(\u001b[49m\u001b[43m)\u001b[49m\n\u001b[0;32m    135\u001b[0m \u001b[38;5;28;01melse\u001b[39;00m:\n\u001b[0;32m    136\u001b[0m     \u001b[38;5;66;03m# the iterator is empty\u001b[39;00m\n",
      "File \u001b[1;32mc:\\Users\\J\\miniconda3\\envs\\med-mnist\\lib\\site-packages\\lightning\\pytorch\\loops\\fetchers.py:61\u001b[0m, in \u001b[0;36m_DataFetcher.__next__\u001b[1;34m(self)\u001b[0m\n\u001b[0;32m     60\u001b[0m \u001b[38;5;28;01mtry\u001b[39;00m:\n\u001b[1;32m---> 61\u001b[0m     batch \u001b[38;5;241m=\u001b[39m \u001b[38;5;28;43mnext\u001b[39;49m\u001b[43m(\u001b[49m\u001b[38;5;28;43mself\u001b[39;49m\u001b[38;5;241;43m.\u001b[39;49m\u001b[43miterator\u001b[49m\u001b[43m)\u001b[49m\n\u001b[0;32m     62\u001b[0m \u001b[38;5;28;01mexcept\u001b[39;00m \u001b[38;5;167;01mStopIteration\u001b[39;00m:\n",
      "File \u001b[1;32mc:\\Users\\J\\miniconda3\\envs\\med-mnist\\lib\\site-packages\\lightning\\pytorch\\utilities\\combined_loader.py:341\u001b[0m, in \u001b[0;36mCombinedLoader.__next__\u001b[1;34m(self)\u001b[0m\n\u001b[0;32m    340\u001b[0m \u001b[38;5;28;01massert\u001b[39;00m \u001b[38;5;28mself\u001b[39m\u001b[38;5;241m.\u001b[39m_iterator \u001b[38;5;129;01mis\u001b[39;00m \u001b[38;5;129;01mnot\u001b[39;00m \u001b[38;5;28;01mNone\u001b[39;00m\n\u001b[1;32m--> 341\u001b[0m out \u001b[38;5;241m=\u001b[39m \u001b[38;5;28;43mnext\u001b[39;49m\u001b[43m(\u001b[49m\u001b[38;5;28;43mself\u001b[39;49m\u001b[38;5;241;43m.\u001b[39;49m\u001b[43m_iterator\u001b[49m\u001b[43m)\u001b[49m\n\u001b[0;32m    342\u001b[0m \u001b[38;5;28;01mif\u001b[39;00m \u001b[38;5;28misinstance\u001b[39m(\u001b[38;5;28mself\u001b[39m\u001b[38;5;241m.\u001b[39m_iterator, _Sequential):\n",
      "File \u001b[1;32mc:\\Users\\J\\miniconda3\\envs\\med-mnist\\lib\\site-packages\\lightning\\pytorch\\utilities\\combined_loader.py:78\u001b[0m, in \u001b[0;36m_MaxSizeCycle.__next__\u001b[1;34m(self)\u001b[0m\n\u001b[0;32m     77\u001b[0m \u001b[38;5;28;01mtry\u001b[39;00m:\n\u001b[1;32m---> 78\u001b[0m     out[i] \u001b[38;5;241m=\u001b[39m \u001b[38;5;28;43mnext\u001b[39;49m\u001b[43m(\u001b[49m\u001b[38;5;28;43mself\u001b[39;49m\u001b[38;5;241;43m.\u001b[39;49m\u001b[43miterators\u001b[49m\u001b[43m[\u001b[49m\u001b[43mi\u001b[49m\u001b[43m]\u001b[49m\u001b[43m)\u001b[49m\n\u001b[0;32m     79\u001b[0m \u001b[38;5;28;01mexcept\u001b[39;00m \u001b[38;5;167;01mStopIteration\u001b[39;00m:\n",
      "File \u001b[1;32mc:\\Users\\J\\miniconda3\\envs\\med-mnist\\lib\\site-packages\\torch\\utils\\data\\dataloader.py:701\u001b[0m, in \u001b[0;36m_BaseDataLoaderIter.__next__\u001b[1;34m(self)\u001b[0m\n\u001b[0;32m    700\u001b[0m     \u001b[38;5;28mself\u001b[39m\u001b[38;5;241m.\u001b[39m_reset()  \u001b[38;5;66;03m# type: ignore[call-arg]\u001b[39;00m\n\u001b[1;32m--> 701\u001b[0m data \u001b[38;5;241m=\u001b[39m \u001b[38;5;28;43mself\u001b[39;49m\u001b[38;5;241;43m.\u001b[39;49m\u001b[43m_next_data\u001b[49m\u001b[43m(\u001b[49m\u001b[43m)\u001b[49m\n\u001b[0;32m    702\u001b[0m \u001b[38;5;28mself\u001b[39m\u001b[38;5;241m.\u001b[39m_num_yielded \u001b[38;5;241m+\u001b[39m\u001b[38;5;241m=\u001b[39m \u001b[38;5;241m1\u001b[39m\n",
      "File \u001b[1;32mc:\\Users\\J\\miniconda3\\envs\\med-mnist\\lib\\site-packages\\torch\\utils\\data\\dataloader.py:1448\u001b[0m, in \u001b[0;36m_MultiProcessingDataLoaderIter._next_data\u001b[1;34m(self)\u001b[0m\n\u001b[0;32m   1447\u001b[0m \u001b[38;5;28;01massert\u001b[39;00m \u001b[38;5;129;01mnot\u001b[39;00m \u001b[38;5;28mself\u001b[39m\u001b[38;5;241m.\u001b[39m_shutdown \u001b[38;5;129;01mand\u001b[39;00m \u001b[38;5;28mself\u001b[39m\u001b[38;5;241m.\u001b[39m_tasks_outstanding \u001b[38;5;241m>\u001b[39m \u001b[38;5;241m0\u001b[39m\n\u001b[1;32m-> 1448\u001b[0m idx, data \u001b[38;5;241m=\u001b[39m \u001b[38;5;28;43mself\u001b[39;49m\u001b[38;5;241;43m.\u001b[39;49m\u001b[43m_get_data\u001b[49m\u001b[43m(\u001b[49m\u001b[43m)\u001b[49m\n\u001b[0;32m   1449\u001b[0m \u001b[38;5;28mself\u001b[39m\u001b[38;5;241m.\u001b[39m_tasks_outstanding \u001b[38;5;241m-\u001b[39m\u001b[38;5;241m=\u001b[39m \u001b[38;5;241m1\u001b[39m\n",
      "File \u001b[1;32mc:\\Users\\J\\miniconda3\\envs\\med-mnist\\lib\\site-packages\\torch\\utils\\data\\dataloader.py:1402\u001b[0m, in \u001b[0;36m_MultiProcessingDataLoaderIter._get_data\u001b[1;34m(self)\u001b[0m\n\u001b[0;32m   1401\u001b[0m \u001b[38;5;28;01mwhile\u001b[39;00m \u001b[38;5;28mself\u001b[39m\u001b[38;5;241m.\u001b[39m_pin_memory_thread\u001b[38;5;241m.\u001b[39mis_alive():\n\u001b[1;32m-> 1402\u001b[0m     success, data \u001b[38;5;241m=\u001b[39m \u001b[38;5;28;43mself\u001b[39;49m\u001b[38;5;241;43m.\u001b[39;49m\u001b[43m_try_get_data\u001b[49m\u001b[43m(\u001b[49m\u001b[43m)\u001b[49m\n\u001b[0;32m   1403\u001b[0m     \u001b[38;5;28;01mif\u001b[39;00m success:\n",
      "File \u001b[1;32mc:\\Users\\J\\miniconda3\\envs\\med-mnist\\lib\\site-packages\\torch\\utils\\data\\dataloader.py:1243\u001b[0m, in \u001b[0;36m_MultiProcessingDataLoaderIter._try_get_data\u001b[1;34m(self, timeout)\u001b[0m\n\u001b[0;32m   1242\u001b[0m \u001b[38;5;28;01mtry\u001b[39;00m:\n\u001b[1;32m-> 1243\u001b[0m     data \u001b[38;5;241m=\u001b[39m \u001b[38;5;28;43mself\u001b[39;49m\u001b[38;5;241;43m.\u001b[39;49m\u001b[43m_data_queue\u001b[49m\u001b[38;5;241;43m.\u001b[39;49m\u001b[43mget\u001b[49m\u001b[43m(\u001b[49m\u001b[43mtimeout\u001b[49m\u001b[38;5;241;43m=\u001b[39;49m\u001b[43mtimeout\u001b[49m\u001b[43m)\u001b[49m\n\u001b[0;32m   1244\u001b[0m     \u001b[38;5;28;01mreturn\u001b[39;00m (\u001b[38;5;28;01mTrue\u001b[39;00m, data)\n",
      "File \u001b[1;32mc:\\Users\\J\\miniconda3\\envs\\med-mnist\\lib\\queue.py:180\u001b[0m, in \u001b[0;36mQueue.get\u001b[1;34m(self, block, timeout)\u001b[0m\n\u001b[0;32m    179\u001b[0m             \u001b[38;5;28;01mraise\u001b[39;00m Empty\n\u001b[1;32m--> 180\u001b[0m         \u001b[38;5;28;43mself\u001b[39;49m\u001b[38;5;241;43m.\u001b[39;49m\u001b[43mnot_empty\u001b[49m\u001b[38;5;241;43m.\u001b[39;49m\u001b[43mwait\u001b[49m\u001b[43m(\u001b[49m\u001b[43mremaining\u001b[49m\u001b[43m)\u001b[49m\n\u001b[0;32m    181\u001b[0m item \u001b[38;5;241m=\u001b[39m \u001b[38;5;28mself\u001b[39m\u001b[38;5;241m.\u001b[39m_get()\n",
      "File \u001b[1;32mc:\\Users\\J\\miniconda3\\envs\\med-mnist\\lib\\threading.py:324\u001b[0m, in \u001b[0;36mCondition.wait\u001b[1;34m(self, timeout)\u001b[0m\n\u001b[0;32m    323\u001b[0m \u001b[38;5;28;01mif\u001b[39;00m timeout \u001b[38;5;241m>\u001b[39m \u001b[38;5;241m0\u001b[39m:\n\u001b[1;32m--> 324\u001b[0m     gotit \u001b[38;5;241m=\u001b[39m \u001b[43mwaiter\u001b[49m\u001b[38;5;241;43m.\u001b[39;49m\u001b[43macquire\u001b[49m\u001b[43m(\u001b[49m\u001b[38;5;28;43;01mTrue\u001b[39;49;00m\u001b[43m,\u001b[49m\u001b[43m \u001b[49m\u001b[43mtimeout\u001b[49m\u001b[43m)\u001b[49m\n\u001b[0;32m    325\u001b[0m \u001b[38;5;28;01melse\u001b[39;00m:\n",
      "\u001b[1;31mKeyboardInterrupt\u001b[0m: ",
      "\nDuring handling of the above exception, another exception occurred:\n",
      "\u001b[1;31mNameError\u001b[0m                                 Traceback (most recent call last)",
      "Cell \u001b[1;32mIn[25], line 1\u001b[0m\n\u001b[1;32m----> 1\u001b[0m \u001b[43mtrainer\u001b[49m\u001b[38;5;241;43m.\u001b[39;49m\u001b[43mfit\u001b[49m\u001b[43m(\u001b[49m\u001b[43mmodel\u001b[49m\u001b[43m,\u001b[49m\u001b[43m \u001b[49m\u001b[43mtrain_loader\u001b[49m\u001b[43m,\u001b[49m\u001b[43m \u001b[49m\u001b[43mvalidation_loader\u001b[49m\u001b[43m)\u001b[49m\n",
      "File \u001b[1;32mc:\\Users\\J\\miniconda3\\envs\\med-mnist\\lib\\site-packages\\lightning\\pytorch\\trainer\\trainer.py:539\u001b[0m, in \u001b[0;36mTrainer.fit\u001b[1;34m(self, model, train_dataloaders, val_dataloaders, datamodule, ckpt_path)\u001b[0m\n\u001b[0;32m    537\u001b[0m \u001b[38;5;28mself\u001b[39m\u001b[38;5;241m.\u001b[39mstate\u001b[38;5;241m.\u001b[39mstatus \u001b[38;5;241m=\u001b[39m TrainerStatus\u001b[38;5;241m.\u001b[39mRUNNING\n\u001b[0;32m    538\u001b[0m \u001b[38;5;28mself\u001b[39m\u001b[38;5;241m.\u001b[39mtraining \u001b[38;5;241m=\u001b[39m \u001b[38;5;28;01mTrue\u001b[39;00m\n\u001b[1;32m--> 539\u001b[0m \u001b[43mcall\u001b[49m\u001b[38;5;241;43m.\u001b[39;49m\u001b[43m_call_and_handle_interrupt\u001b[49m\u001b[43m(\u001b[49m\n\u001b[0;32m    540\u001b[0m \u001b[43m    \u001b[49m\u001b[38;5;28;43mself\u001b[39;49m\u001b[43m,\u001b[49m\u001b[43m \u001b[49m\u001b[38;5;28;43mself\u001b[39;49m\u001b[38;5;241;43m.\u001b[39;49m\u001b[43m_fit_impl\u001b[49m\u001b[43m,\u001b[49m\u001b[43m \u001b[49m\u001b[43mmodel\u001b[49m\u001b[43m,\u001b[49m\u001b[43m \u001b[49m\u001b[43mtrain_dataloaders\u001b[49m\u001b[43m,\u001b[49m\u001b[43m \u001b[49m\u001b[43mval_dataloaders\u001b[49m\u001b[43m,\u001b[49m\u001b[43m \u001b[49m\u001b[43mdatamodule\u001b[49m\u001b[43m,\u001b[49m\u001b[43m \u001b[49m\u001b[43mckpt_path\u001b[49m\n\u001b[0;32m    541\u001b[0m \u001b[43m\u001b[49m\u001b[43m)\u001b[49m\n",
      "File \u001b[1;32mc:\\Users\\J\\miniconda3\\envs\\med-mnist\\lib\\site-packages\\lightning\\pytorch\\trainer\\call.py:64\u001b[0m, in \u001b[0;36m_call_and_handle_interrupt\u001b[1;34m(trainer, trainer_fn, *args, **kwargs)\u001b[0m\n\u001b[0;32m     62\u001b[0m     \u001b[38;5;28;01mif\u001b[39;00m \u001b[38;5;28misinstance\u001b[39m(launcher, _SubprocessScriptLauncher):\n\u001b[0;32m     63\u001b[0m         launcher\u001b[38;5;241m.\u001b[39mkill(_get_sigkill_signal())\n\u001b[1;32m---> 64\u001b[0m     \u001b[43mexit\u001b[49m(\u001b[38;5;241m1\u001b[39m)\n\u001b[0;32m     66\u001b[0m \u001b[38;5;28;01mexcept\u001b[39;00m \u001b[38;5;167;01mBaseException\u001b[39;00m \u001b[38;5;28;01mas\u001b[39;00m exception:\n\u001b[0;32m     67\u001b[0m     _interrupt(trainer, exception)\n",
      "\u001b[1;31mNameError\u001b[0m: name 'exit' is not defined"
     ]
    }
   ],
   "source": [
    "trainer.fit(model, train_loader, validation_loader)"
   ]
  },
  {
   "cell_type": "code",
   "execution_count": null,
   "metadata": {},
   "outputs": [],
   "source": []
  }
 ],
 "metadata": {
  "kernelspec": {
   "display_name": "med-mnist",
   "language": "python",
   "name": "python3"
  },
  "language_info": {
   "codemirror_mode": {
    "name": "ipython",
    "version": 3
   },
   "file_extension": ".py",
   "mimetype": "text/x-python",
   "name": "python",
   "nbconvert_exporter": "python",
   "pygments_lexer": "ipython3",
   "version": "3.10.16"
  }
 },
 "nbformat": 4,
 "nbformat_minor": 2
}
