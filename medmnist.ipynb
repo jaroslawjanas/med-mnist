{
 "cells": [
  {
   "cell_type": "code",
   "execution_count": 1,
   "metadata": {},
   "outputs": [],
   "source": [
    "import os\n",
    "from pprint import pprint\n",
    "import numpy as np\n",
    "from collections import defaultdict\n",
    "import json\n",
    "\n",
    "import torch\n",
    "from torch.utils.data import Dataset, DataLoader\n",
    "# import torchvision\n",
    "from torchvision.transforms import v2\n",
    "\n",
    "import medmnist\n",
    "from medmnist import INFO\n",
    "\n",
    "import src.medmnist_dataset as md"
   ]
  },
  {
   "cell_type": "code",
   "execution_count": 2,
   "metadata": {},
   "outputs": [],
   "source": [
    "# Get CWD\n",
    "CWD = os.getcwd()"
   ]
  },
  {
   "cell_type": "code",
   "execution_count": 3,
   "metadata": {},
   "outputs": [
    {
     "name": "stdout",
     "output_type": "stream",
     "text": [
      "3.0.2\n"
     ]
    }
   ],
   "source": [
    "print(medmnist.__version__)"
   ]
  },
  {
   "cell_type": "code",
   "execution_count": 4,
   "metadata": {},
   "outputs": [],
   "source": [
    "avaliable_datasets = [\"pathmnist\", \"dermamnist\", \\\n",
    "                    \"octmnist\", \"pneumoniamnist\", \"breastmnist\", \\\n",
    "                    \"bloodmnist\", \"tissuemnist\", \"organamnist\", \\\n",
    "                    \"organcmnist\", \"organsmnist\"] # \"retinamnist\", \"chestmnist\"]"
   ]
  },
  {
   "cell_type": "code",
   "execution_count": 5,
   "metadata": {},
   "outputs": [
    {
     "name": "stdout",
     "output_type": "stream",
     "text": [
      "----------------------------------------------------------------------------------------------------\n",
      "Dataset: pathmnist\n",
      "Python: PathMNIST\n",
      "Task: multi-class\n",
      "Number of classes: 9\n",
      "Channels: 3\n",
      "Classes:\n",
      "{'0': 'adipose',\n",
      " '1': 'background',\n",
      " '2': 'debris',\n",
      " '3': 'lymphocytes',\n",
      " '4': 'mucus',\n",
      " '5': 'smooth muscle',\n",
      " '6': 'normal colon mucosa',\n",
      " '7': 'cancer-associated stroma',\n",
      " '8': 'colorectal adenocarcinoma epithelium'}\n",
      "----------------------------------------------------------------------------------------------------\n",
      "Dataset: dermamnist\n",
      "Python: DermaMNIST\n",
      "Task: multi-class\n",
      "Number of classes: 7\n",
      "Channels: 3\n",
      "Classes:\n",
      "{'0': 'actinic keratoses and intraepithelial carcinoma',\n",
      " '1': 'basal cell carcinoma',\n",
      " '2': 'benign keratosis-like lesions',\n",
      " '3': 'dermatofibroma',\n",
      " '4': 'melanoma',\n",
      " '5': 'melanocytic nevi',\n",
      " '6': 'vascular lesions'}\n",
      "----------------------------------------------------------------------------------------------------\n",
      "Dataset: octmnist\n",
      "Python: OCTMNIST\n",
      "Task: multi-class\n",
      "Number of classes: 4\n",
      "Channels: 1\n",
      "Classes:\n",
      "{'0': 'choroidal neovascularization',\n",
      " '1': 'diabetic macular edema',\n",
      " '2': 'drusen',\n",
      " '3': 'normal'}\n",
      "----------------------------------------------------------------------------------------------------\n",
      "Dataset: pneumoniamnist\n",
      "Python: PneumoniaMNIST\n",
      "Task: binary-class\n",
      "Number of classes: 2\n",
      "Channels: 1\n",
      "Classes:\n",
      "{'0': 'normal', '1': 'pneumonia'}\n",
      "----------------------------------------------------------------------------------------------------\n",
      "Dataset: breastmnist\n",
      "Python: BreastMNIST\n",
      "Task: binary-class\n",
      "Number of classes: 2\n",
      "Channels: 1\n",
      "Classes:\n",
      "{'0': 'malignant', '1': 'normal, benign'}\n",
      "----------------------------------------------------------------------------------------------------\n",
      "Dataset: bloodmnist\n",
      "Python: BloodMNIST\n",
      "Task: multi-class\n",
      "Number of classes: 8\n",
      "Channels: 3\n",
      "Classes:\n",
      "{'0': 'basophil',\n",
      " '1': 'eosinophil',\n",
      " '2': 'erythroblast',\n",
      " '3': 'immature granulocytes(myelocytes, metamyelocytes and promyelocytes)',\n",
      " '4': 'lymphocyte',\n",
      " '5': 'monocyte',\n",
      " '6': 'neutrophil',\n",
      " '7': 'platelet'}\n",
      "----------------------------------------------------------------------------------------------------\n",
      "Dataset: tissuemnist\n",
      "Python: TissueMNIST\n",
      "Task: multi-class\n",
      "Number of classes: 8\n",
      "Channels: 1\n",
      "Classes:\n",
      "{'0': 'Collecting Duct, Connecting Tubule',\n",
      " '1': 'Distal Convoluted Tubule',\n",
      " '2': 'Glomerular endothelial cells',\n",
      " '3': 'Interstitial endothelial cells',\n",
      " '4': 'Leukocytes',\n",
      " '5': 'Podocytes',\n",
      " '6': 'Proximal Tubule Segments',\n",
      " '7': 'Thick Ascending Limb'}\n",
      "----------------------------------------------------------------------------------------------------\n",
      "Dataset: organamnist\n",
      "Python: OrganAMNIST\n",
      "Task: multi-class\n",
      "Number of classes: 11\n",
      "Channels: 1\n",
      "Classes:\n",
      "{'0': 'bladder',\n",
      " '1': 'femur-left',\n",
      " '10': 'spleen',\n",
      " '2': 'femur-right',\n",
      " '3': 'heart',\n",
      " '4': 'kidney-left',\n",
      " '5': 'kidney-right',\n",
      " '6': 'liver',\n",
      " '7': 'lung-left',\n",
      " '8': 'lung-right',\n",
      " '9': 'pancreas'}\n",
      "----------------------------------------------------------------------------------------------------\n",
      "Dataset: organcmnist\n",
      "Python: OrganCMNIST\n",
      "Task: multi-class\n",
      "Number of classes: 11\n",
      "Channels: 1\n",
      "Classes:\n",
      "{'0': 'bladder',\n",
      " '1': 'femur-left',\n",
      " '10': 'spleen',\n",
      " '2': 'femur-right',\n",
      " '3': 'heart',\n",
      " '4': 'kidney-left',\n",
      " '5': 'kidney-right',\n",
      " '6': 'liver',\n",
      " '7': 'lung-left',\n",
      " '8': 'lung-right',\n",
      " '9': 'pancreas'}\n",
      "----------------------------------------------------------------------------------------------------\n",
      "Dataset: organsmnist\n",
      "Python: OrganSMNIST\n",
      "Task: multi-class\n",
      "Number of classes: 11\n",
      "Channels: 1\n",
      "Classes:\n",
      "{'0': 'bladder',\n",
      " '1': 'femur-left',\n",
      " '10': 'spleen',\n",
      " '2': 'femur-right',\n",
      " '3': 'heart',\n",
      " '4': 'kidney-left',\n",
      " '5': 'kidney-right',\n",
      " '6': 'liver',\n",
      " '7': 'lung-left',\n",
      " '8': 'lung-right',\n",
      " '9': 'pancreas'}\n"
     ]
    }
   ],
   "source": [
    "for dataset_name in avaliable_datasets:\n",
    "    \n",
    "    info = INFO[dataset_name]\n",
    "    print(f\"-\"*100)\n",
    "    print(f\"Dataset: {dataset_name}\")\n",
    "    print(f\"Python: {info['python_class']}\")\n",
    "    print(f\"Task: {info['task']}\")\n",
    "    print(f\"Number of classes: {len(info['label'])}\")\n",
    "    print(f\"Channels: {info['n_channels']}\")\n",
    "    print(\"Classes:\")\n",
    "    pprint(info['label'])"
   ]
  },
  {
   "cell_type": "code",
   "execution_count": 6,
   "metadata": {},
   "outputs": [
    {
     "name": "stdout",
     "output_type": "stream",
     "text": [
      "Using downloaded and verified file: d:\\AI\\med-mnist\\datasets\\64\\pathmnist_64.npz\n",
      "Using downloaded and verified file: d:\\AI\\med-mnist\\datasets\\64\\dermamnist_64.npz\n",
      "Using downloaded and verified file: d:\\AI\\med-mnist\\datasets\\64\\octmnist_64.npz\n",
      "Using downloaded and verified file: d:\\AI\\med-mnist\\datasets\\64\\pneumoniamnist_64.npz\n",
      "Using downloaded and verified file: d:\\AI\\med-mnist\\datasets\\64\\breastmnist_64.npz\n",
      "Using downloaded and verified file: d:\\AI\\med-mnist\\datasets\\64\\bloodmnist_64.npz\n",
      "Using downloaded and verified file: d:\\AI\\med-mnist\\datasets\\64\\tissuemnist_64.npz\n",
      "Using downloaded and verified file: d:\\AI\\med-mnist\\datasets\\64\\organamnist_64.npz\n",
      "Using downloaded and verified file: d:\\AI\\med-mnist\\datasets\\64\\organcmnist_64.npz\n",
      "Using downloaded and verified file: d:\\AI\\med-mnist\\datasets\\64\\organsmnist_64.npz\n"
     ]
    }
   ],
   "source": [
    "image_size = 64 # 28, 64, 128 or 256\n",
    "datasets_path = os.path.join(CWD, \"datasets\", str(image_size))\n",
    "os.makedirs(datasets_path, exist_ok=True)\n",
    "\n",
    "md.download(avaliable_datasets, datasets_path, image_size)"
   ]
  },
  {
   "cell_type": "code",
   "execution_count": 7,
   "metadata": {},
   "outputs": [],
   "source": [
    "transform = v2.Compose([\n",
    "    v2.ToImage(),\n",
    "    v2.ToDtype(torch.float16, scale=True)\n",
    "])"
   ]
  },
  {
   "cell_type": "code",
   "execution_count": 8,
   "metadata": {},
   "outputs": [
    {
     "name": "stdout",
     "output_type": "stream",
     "text": [
      "Dataset name: organamnist\n",
      "Unique classes: [ 0  1  2  3  4  5  6  7  8  9 10]\n",
      "Dataset name: organcmnist\n",
      "Unique classes: [ 0  1  2  3  4  5  6  7  8  9 10]\n",
      "Dataset name: organsmnist\n",
      "Unique classes: [ 0  1  2  3  4  5  6  7  8  9 10]\n",
      "All train images: (61468, 3, 64, 64)\n",
      "All train labels: (61468, 1)\n",
      "All test images: (34821, 3, 64, 64)\n",
      "All test labels: (34821, 1)\n",
      "All val images: (11335, 3, 64, 64)\n",
      "All val labels: (11335, 1)\n",
      "Unified dataset saved at d:\\AI\\med-mnist\\datasets\\64\\organs_64.npz\n"
     ]
    }
   ],
   "source": [
    "organ_datasets = [\"organamnist\", \"organcmnist\", \"organsmnist\"] # These are the same - have the same classes\n",
    "\n",
    "md.unify_data(\n",
    "    organ_datasets,\n",
    "    are_unique_classes  = False,\n",
    "    image_size          = image_size,\n",
    "    datasets_path       = datasets_path,\n",
    "    save_path           = datasets_path,\n",
    "    filename            = f\"organs_{image_size}\"\n",
    ");"
   ]
  },
  {
   "cell_type": "code",
   "execution_count": 9,
   "metadata": {},
   "outputs": [
    {
     "name": "stdout",
     "output_type": "stream",
     "text": [
      "Dataset name: organs\n",
      "Unique classes: [ 0  1  2  3  4  5  6  7  8  9 10]\n",
      "After mapping: [ 0  1  2  3  4  5  6  7  8  9 10]\n",
      "Dataset name: pathmnist\n",
      "Unique classes: [0 1 2 3 4 5 6 7 8]\n",
      "After mapping: [11 12 13 14 15 16 17 18 19]\n",
      "Dataset name: dermamnist\n",
      "Unique classes: [0 1 2 3 4 5 6]\n",
      "After mapping: [20 21 22 23 24 25 26]\n",
      "Dataset name: octmnist\n",
      "Unique classes: [0 1 2 3]\n",
      "After mapping: [27 28 29 30]\n",
      "Dataset name: pneumoniamnist\n",
      "Unique classes: [0 1]\n",
      "After mapping: [31 32]\n",
      "Dataset name: breastmnist\n",
      "Unique classes: [0 1]\n",
      "After mapping: [33 34]\n",
      "Dataset name: bloodmnist\n",
      "Unique classes: [0 1 2 3 4 5 6 7]\n",
      "After mapping: [35 36 37 38 39 40 41 42]\n",
      "Dataset name: tissuemnist\n",
      "Unique classes: [0 1 2 3 4 5 6 7]\n",
      "After mapping: [43 44 45 46 47 48 49 50]\n",
      "All train images: (438627, 3, 64, 64)\n",
      "All train labels: (438627, 1)\n",
      "All test images: (96487, 3, 64, 64)\n",
      "All test labels: (96487, 1)\n",
      "All val images: (59128, 3, 64, 64)\n",
      "All val labels: (59128, 1)\n",
      "Unified dataset saved at d:\\AI\\med-mnist\\datasets\\64\\unified_64.npz\n",
      "Class mapping saved at d:\\AI\\med-mnist\\datasets\\64\\class_mapping.json\n"
     ]
    }
   ],
   "source": [
    "new_avaliable_datasets = [\"organs\", \"pathmnist\", \"dermamnist\", \"octmnist\", \"pneumoniamnist\", \\\n",
    "                            \"breastmnist\", \"bloodmnist\", \"tissuemnist\"]\n",
    "\n",
    "md.unify_data(\n",
    "    new_avaliable_datasets,\n",
    "    are_unique_classes  = True,\n",
    "    image_size          = image_size,\n",
    "    datasets_path       = datasets_path,\n",
    "    save_path           = datasets_path,\n",
    "    filename            = f\"unified_{image_size}\"\n",
    ");\n"
   ]
  },
  {
   "cell_type": "code",
   "execution_count": null,
   "metadata": {},
   "outputs": [],
   "source": []
  }
 ],
 "metadata": {
  "kernelspec": {
   "display_name": "med-mnist",
   "language": "python",
   "name": "python3"
  },
  "language_info": {
   "codemirror_mode": {
    "name": "ipython",
    "version": 3
   },
   "file_extension": ".py",
   "mimetype": "text/x-python",
   "name": "python",
   "nbconvert_exporter": "python",
   "pygments_lexer": "ipython3",
   "version": "3.10.16"
  }
 },
 "nbformat": 4,
 "nbformat_minor": 2
}
