{
 "cells": [
  {
   "cell_type": "markdown",
   "metadata": {},
   "source": [
    "# Environment"
   ]
  },
  {
   "cell_type": "code",
   "execution_count": 1,
   "metadata": {},
   "outputs": [
    {
     "name": "stdout",
     "output_type": "stream",
     "text": [
      "Sun Feb 23 20:11:06 2025       \n",
      "+-----------------------------------------------------------------------------------------+\n",
      "| NVIDIA-SMI 560.35.03              Driver Version: 560.35.03      CUDA Version: 12.6     |\n",
      "|-----------------------------------------+------------------------+----------------------+\n",
      "| GPU  Name                 Persistence-M | Bus-Id          Disp.A | Volatile Uncorr. ECC |\n",
      "| Fan  Temp   Perf          Pwr:Usage/Cap |           Memory-Usage | GPU-Util  Compute M. |\n",
      "|                                         |                        |               MIG M. |\n",
      "|=========================================+========================+======================|\n",
      "|   0  NVIDIA RTX 6000 Ada Gene...    On  |   00000000:C1:00.0 Off |                    0 |\n",
      "| 32%   51C    P8             27W /  300W |       1MiB /  46068MiB |      0%      Default |\n",
      "|                                         |                        |                  N/A |\n",
      "+-----------------------------------------+------------------------+----------------------+\n",
      "                                                                                         \n",
      "+-----------------------------------------------------------------------------------------+\n",
      "| Processes:                                                                              |\n",
      "|  GPU   GI   CI        PID   Type   Process name                              GPU Memory |\n",
      "|        ID   ID                                                               Usage      |\n",
      "|=========================================================================================|\n",
      "|  No running processes found                                                             |\n",
      "+-----------------------------------------------------------------------------------------+\n"
     ]
    }
   ],
   "source": [
    "!nvidia-smi"
   ]
  },
  {
   "cell_type": "code",
   "execution_count": 2,
   "metadata": {},
   "outputs": [],
   "source": [
    "import os\n",
    "from pprint import pprint\n",
    "import matplotlib.pyplot as plt\n",
    "\n",
    "import torch\n",
    "import torch.nn as nn\n",
    "import torch.optim as optim\n",
    "from torch.optim.lr_scheduler import StepLR, CosineAnnealingLR\n",
    "from torch.utils.data import DataLoader\n",
    "from torchvision.transforms import v2\n",
    "from torchvision.transforms.functional import InterpolationMode\n",
    "from torchinfo import summary\n",
    "\n",
    "import medmnist\n",
    "from medmnist import INFO\n",
    "\n",
    "import src.medmnist_dataset as md\n",
    "from src.architectures import architecture, VisionTransformer\n",
    "from src.train import train_loop, EarlyStopping\n",
    "from src.utils import compute_class_weights"
   ]
  },
  {
   "cell_type": "code",
   "execution_count": 3,
   "metadata": {},
   "outputs": [
    {
     "name": "stdout",
     "output_type": "stream",
     "text": [
      "Device: cuda\n"
     ]
    }
   ],
   "source": [
    "# Set the global device\n",
    "device = torch.device(\"cuda\" if torch.cuda.is_available() else \"cpu\")\n",
    "print(f\"Device: {device}\")"
   ]
  },
  {
   "cell_type": "code",
   "execution_count": 4,
   "metadata": {},
   "outputs": [],
   "source": [
    "# Get CWD\n",
    "CWD = os.getcwd()"
   ]
  },
  {
   "cell_type": "code",
   "execution_count": 5,
   "metadata": {},
   "outputs": [
    {
     "name": "stdout",
     "output_type": "stream",
     "text": [
      "3.0.2\n"
     ]
    }
   ],
   "source": [
    "print(medmnist.__version__)"
   ]
  },
  {
   "cell_type": "markdown",
   "metadata": {},
   "source": [
    "# Data"
   ]
  },
  {
   "cell_type": "markdown",
   "metadata": {},
   "source": [
    "## Data Info"
   ]
  },
  {
   "cell_type": "code",
   "execution_count": 6,
   "metadata": {},
   "outputs": [],
   "source": [
    "avaliable_datasets = [\"pathmnist\", \"dermamnist\", \\\n",
    "                    \"octmnist\", \"pneumoniamnist\", \"breastmnist\", \\\n",
    "                    \"bloodmnist\", \"tissuemnist\", \"organamnist\", \\\n",
    "                    \"organcmnist\", \"organsmnist\"] # \"retinamnist\", \"chestmnist\"]"
   ]
  },
  {
   "cell_type": "code",
   "execution_count": 7,
   "metadata": {},
   "outputs": [
    {
     "name": "stdout",
     "output_type": "stream",
     "text": [
      "----------------------------------------------------------------------------------------------------\n",
      "Dataset: pathmnist\n",
      "Python: PathMNIST\n",
      "Task: multi-class\n",
      "Number of classes: 9\n",
      "Channels: 3\n",
      "Classes:\n",
      "{'0': 'adipose',\n",
      " '1': 'background',\n",
      " '2': 'debris',\n",
      " '3': 'lymphocytes',\n",
      " '4': 'mucus',\n",
      " '5': 'smooth muscle',\n",
      " '6': 'normal colon mucosa',\n",
      " '7': 'cancer-associated stroma',\n",
      " '8': 'colorectal adenocarcinoma epithelium'}\n",
      "----------------------------------------------------------------------------------------------------\n",
      "Dataset: dermamnist\n",
      "Python: DermaMNIST\n",
      "Task: multi-class\n",
      "Number of classes: 7\n",
      "Channels: 3\n",
      "Classes:\n",
      "{'0': 'actinic keratoses and intraepithelial carcinoma',\n",
      " '1': 'basal cell carcinoma',\n",
      " '2': 'benign keratosis-like lesions',\n",
      " '3': 'dermatofibroma',\n",
      " '4': 'melanoma',\n",
      " '5': 'melanocytic nevi',\n",
      " '6': 'vascular lesions'}\n",
      "----------------------------------------------------------------------------------------------------\n",
      "Dataset: octmnist\n",
      "Python: OCTMNIST\n",
      "Task: multi-class\n",
      "Number of classes: 4\n",
      "Channels: 1\n",
      "Classes:\n",
      "{'0': 'choroidal neovascularization',\n",
      " '1': 'diabetic macular edema',\n",
      " '2': 'drusen',\n",
      " '3': 'normal'}\n",
      "----------------------------------------------------------------------------------------------------\n",
      "Dataset: pneumoniamnist\n",
      "Python: PneumoniaMNIST\n",
      "Task: binary-class\n",
      "Number of classes: 2\n",
      "Channels: 1\n",
      "Classes:\n",
      "{'0': 'normal', '1': 'pneumonia'}\n",
      "----------------------------------------------------------------------------------------------------\n",
      "Dataset: breastmnist\n",
      "Python: BreastMNIST\n",
      "Task: binary-class\n",
      "Number of classes: 2\n",
      "Channels: 1\n",
      "Classes:\n",
      "{'0': 'malignant', '1': 'normal, benign'}\n",
      "----------------------------------------------------------------------------------------------------\n",
      "Dataset: bloodmnist\n",
      "Python: BloodMNIST\n",
      "Task: multi-class\n",
      "Number of classes: 8\n",
      "Channels: 3\n",
      "Classes:\n",
      "{'0': 'basophil',\n",
      " '1': 'eosinophil',\n",
      " '2': 'erythroblast',\n",
      " '3': 'immature granulocytes(myelocytes, metamyelocytes and promyelocytes)',\n",
      " '4': 'lymphocyte',\n",
      " '5': 'monocyte',\n",
      " '6': 'neutrophil',\n",
      " '7': 'platelet'}\n",
      "----------------------------------------------------------------------------------------------------\n",
      "Dataset: tissuemnist\n",
      "Python: TissueMNIST\n",
      "Task: multi-class\n",
      "Number of classes: 8\n",
      "Channels: 1\n",
      "Classes:\n",
      "{'0': 'Collecting Duct, Connecting Tubule',\n",
      " '1': 'Distal Convoluted Tubule',\n",
      " '2': 'Glomerular endothelial cells',\n",
      " '3': 'Interstitial endothelial cells',\n",
      " '4': 'Leukocytes',\n",
      " '5': 'Podocytes',\n",
      " '6': 'Proximal Tubule Segments',\n",
      " '7': 'Thick Ascending Limb'}\n",
      "----------------------------------------------------------------------------------------------------\n",
      "Dataset: organamnist\n",
      "Python: OrganAMNIST\n",
      "Task: multi-class\n",
      "Number of classes: 11\n",
      "Channels: 1\n",
      "Classes:\n",
      "{'0': 'bladder',\n",
      " '1': 'femur-left',\n",
      " '10': 'spleen',\n",
      " '2': 'femur-right',\n",
      " '3': 'heart',\n",
      " '4': 'kidney-left',\n",
      " '5': 'kidney-right',\n",
      " '6': 'liver',\n",
      " '7': 'lung-left',\n",
      " '8': 'lung-right',\n",
      " '9': 'pancreas'}\n",
      "----------------------------------------------------------------------------------------------------\n",
      "Dataset: organcmnist\n",
      "Python: OrganCMNIST\n",
      "Task: multi-class\n",
      "Number of classes: 11\n",
      "Channels: 1\n",
      "Classes:\n",
      "{'0': 'bladder',\n",
      " '1': 'femur-left',\n",
      " '10': 'spleen',\n",
      " '2': 'femur-right',\n",
      " '3': 'heart',\n",
      " '4': 'kidney-left',\n",
      " '5': 'kidney-right',\n",
      " '6': 'liver',\n",
      " '7': 'lung-left',\n",
      " '8': 'lung-right',\n",
      " '9': 'pancreas'}\n",
      "----------------------------------------------------------------------------------------------------\n",
      "Dataset: organsmnist\n",
      "Python: OrganSMNIST\n",
      "Task: multi-class\n",
      "Number of classes: 11\n",
      "Channels: 1\n",
      "Classes:\n",
      "{'0': 'bladder',\n",
      " '1': 'femur-left',\n",
      " '10': 'spleen',\n",
      " '2': 'femur-right',\n",
      " '3': 'heart',\n",
      " '4': 'kidney-left',\n",
      " '5': 'kidney-right',\n",
      " '6': 'liver',\n",
      " '7': 'lung-left',\n",
      " '8': 'lung-right',\n",
      " '9': 'pancreas'}\n"
     ]
    }
   ],
   "source": [
    "sample_counts = []\n",
    "\n",
    "for dataset_name in avaliable_datasets:\n",
    "    \n",
    "    info = INFO[dataset_name]\n",
    "    print(f\"-\"*100)\n",
    "    print(f\"Dataset: {dataset_name}\")\n",
    "    print(f\"Python: {info['python_class']}\")\n",
    "    print(f\"Task: {info['task']}\")\n",
    "    print(f\"Number of classes: {len(info['label'])}\")\n",
    "    print(f\"Channels: {info['n_channels']}\")\n",
    "    print(\"Classes:\")\n",
    "    pprint(info['label'])\n",
    "\n",
    "    sample_counts.append(info[\"n_samples\"][\"train\"])"
   ]
  },
  {
   "cell_type": "code",
   "execution_count": 8,
   "metadata": {},
   "outputs": [
    {
     "data": {
      "image/png": "[encoded data removed]",
      "text/plain": [
       "<Figure size 800x800 with 1 Axes>"
      ]
     },
     "metadata": {},
     "output_type": "display_data"
    }
   ],
   "source": [
    "# Create a pie chart\n",
    "plt.figure(figsize=(8, 8))\n",
    "plt.pie(sample_counts, labels=avaliable_datasets, autopct=\"%1.1f%%\", startangle=140, \n",
    "        colors=plt.cm.Paired.colors, wedgeprops={\"edgecolor\": \"black\"})\n",
    "\n",
    "# Add a title\n",
    "plt.title(\"Dataset Proportions\")\n",
    "\n",
    "# Show the plot\n",
    "plt.show()"
   ]
  },
  {
   "cell_type": "markdown",
   "metadata": {},
   "source": [
    "## Data Download"
   ]
  },
  {
   "cell_type": "code",
   "execution_count": 9,
   "metadata": {},
   "outputs": [
    {
     "name": "stdout",
     "output_type": "stream",
     "text": [
      "File /root/med-mnist/datasets/28/pathmnist_28.npz already exists. Skipping download.\n",
      "File /root/med-mnist/datasets/28/dermamnist_28.npz already exists. Skipping download.\n",
      "File /root/med-mnist/datasets/28/octmnist_28.npz already exists. Skipping download.\n",
      "File /root/med-mnist/datasets/28/pneumoniamnist_28.npz already exists. Skipping download.\n",
      "File /root/med-mnist/datasets/28/breastmnist_28.npz already exists. Skipping download.\n",
      "File /root/med-mnist/datasets/28/bloodmnist_28.npz already exists. Skipping download.\n",
      "File /root/med-mnist/datasets/28/tissuemnist_28.npz already exists. Skipping download.\n",
      "File /root/med-mnist/datasets/28/organamnist_28.npz already exists. Skipping download.\n",
      "File /root/med-mnist/datasets/28/organcmnist_28.npz already exists. Skipping download.\n",
      "File /root/med-mnist/datasets/28/organsmnist_28.npz already exists. Skipping download.\n"
     ]
    }
   ],
   "source": [
    "image_size = 28 # 28, 64, 128 or 256\n",
    "datasets_path = os.path.join(CWD, \"datasets\", str(image_size))\n",
    "os.makedirs(datasets_path, exist_ok=True)\n",
    "\n",
    "md.download(avaliable_datasets, datasets_path, image_size)"
   ]
  },
  {
   "cell_type": "markdown",
   "metadata": {},
   "source": [
    "## Dataset Unification"
   ]
  },
  {
   "cell_type": "code",
   "execution_count": 10,
   "metadata": {},
   "outputs": [
    {
     "name": "stdout",
     "output_type": "stream",
     "text": [
      "File /root/med-mnist/datasets/28/organs_28.npz already exists.\n"
     ]
    }
   ],
   "source": [
    "organ_datasets = [\"organamnist\", \"organcmnist\", \"organsmnist\"] # These are the same - have the same classes\n",
    "\n",
    "md.unify_data(\n",
    "    organ_datasets,\n",
    "    are_unique_classes      = False,\n",
    "    image_size              = image_size,\n",
    "    datasets_path           = datasets_path,\n",
    "    save_path               = datasets_path,\n",
    "    filename                = f\"organs_{image_size}\"\n",
    ");"
   ]
  },
  {
   "cell_type": "code",
   "execution_count": 11,
   "metadata": {},
   "outputs": [
    {
     "name": "stdout",
     "output_type": "stream",
     "text": [
      "File /root/med-mnist/datasets/28/unified_28.npz already exists.\n"
     ]
    }
   ],
   "source": [
    "new_avaliable_datasets = [\"organs\", \"pathmnist\", \"dermamnist\", \"octmnist\", \"pneumoniamnist\", \\\n",
    "                            \"breastmnist\", \"bloodmnist\", \"tissuemnist\"]\n",
    "\n",
    "md.unify_data(\n",
    "    new_avaliable_datasets,\n",
    "    are_unique_classes      = True,\n",
    "    image_size              = image_size,\n",
    "    datasets_path           = datasets_path,\n",
    "    save_path               = datasets_path,\n",
    "    filename                = f\"unified_{image_size}\"\n",
    ");"
   ]
  },
  {
   "cell_type": "markdown",
   "metadata": {},
   "source": [
    "## Dataset"
   ]
  },
  {
   "cell_type": "code",
   "execution_count": 12,
   "metadata": {},
   "outputs": [],
   "source": [
    "transform = v2.Compose(\n",
    "    [\n",
    "        v2.ToDtype(torch.float32, scale=True),\n",
    "        v2.Normalize([0.5, 0.5, 0.5], [0.5, 0.5, 0.5])\n",
    "    ]\n",
    ")\n",
    "\n",
    "# Training augmentations\n",
    "augmentation = v2.Compose(\n",
    "    [\n",
    "        transform,\n",
    "        v2.RandomHorizontalFlip(p=0.5),\n",
    "        v2.RandomVerticalFlip(p=0.5),\n",
    "        v2.Pad(round(image_size/10), padding_mode=\"reflect\"),\n",
    "        v2.RandomRotation(degrees=20, interpolation=InterpolationMode.BILINEAR),\n",
    "        v2.CenterCrop(size=(image_size, image_size))\n",
    "    ]\n",
    ")"
   ]
  },
  {
   "cell_type": "code",
   "execution_count": 13,
   "metadata": {},
   "outputs": [],
   "source": [
    "unified_dataset_path = os.path.join(datasets_path, f\"unified_{image_size}.npz\")\n",
    "\n",
    "train_dataset = md.NPZDataset(\n",
    "    unified_dataset_path,\n",
    "    split       =\"train\",\n",
    "    transform   =augmentation,\n",
    "    mmap_mode   =None\n",
    ")\n",
    "\n",
    "validation_dataset = md.NPZDataset(\n",
    "    unified_dataset_path,\n",
    "    split       =\"val\",\n",
    "    transform   =transform,\n",
    "    mmap_mode   =None\n",
    ")"
   ]
  },
  {
   "cell_type": "markdown",
   "metadata": {},
   "source": [
    "## Data Loader"
   ]
  },
  {
   "cell_type": "code",
   "execution_count": 14,
   "metadata": {},
   "outputs": [],
   "source": [
    "batch_size = 2048\n",
    "num_workers = 1"
   ]
  },
  {
   "cell_type": "code",
   "execution_count": 15,
   "metadata": {},
   "outputs": [],
   "source": [
    "train_loader = DataLoader(\n",
    "    train_dataset,\n",
    "    batch_size          =batch_size, \n",
    "    shuffle             =True,\n",
    "    num_workers         =num_workers,\n",
    "    prefetch_factor     =10,\n",
    ")\n",
    "\n",
    "validation_loader = DataLoader(\n",
    "    validation_dataset,\n",
    "    batch_size          =batch_size, \n",
    "    shuffle             =False,\n",
    "    num_workers         =num_workers,\n",
    "    prefetch_factor     =10,\n",
    ")"
   ]
  },
  {
   "cell_type": "markdown",
   "metadata": {},
   "source": [
    "### Test Data Loader"
   ]
  },
  {
   "cell_type": "code",
   "execution_count": 16,
   "metadata": {},
   "outputs": [
    {
     "data": {
      "image/png": "[encoded data removed]",
      "text/plain": [
       "<Figure size 1200x500 with 10 Axes>"
      ]
     },
     "metadata": {},
     "output_type": "display_data"
    }
   ],
   "source": [
    "# Get one batch from train_loader\n",
    "batch = next(iter(train_loader))\n",
    "images, labels = batch  # Unpack batch\n",
    "\n",
    "# # Denormalize for visualization\n",
    "mean = torch.tensor([0.5, 0.5, 0.5]).view(3, 1, 1)  # Shape (C, 1, 1)\n",
    "std = torch.tensor([0.5, 0.5, 0.5]).view(3, 1, 1)\n",
    "\n",
    "# Convert images back to [0, 1] range for visualization\n",
    "images = images * std + mean  \n",
    "images = torch.clamp(images, 0, 1)  # Ensure values stay in range\n",
    "\n",
    "# Plot some images\n",
    "fig, axes = plt.subplots(2, 5, figsize=(12, 5))  # Grid 2x5\n",
    "for i, ax in enumerate(axes.flat):\n",
    "    img = images[i].permute(1, 2, 0).cpu().numpy()  # Convert (C, H, W) → (H, W, C)\n",
    "    ax.imshow(img)\n",
    "    ax.axis(\"off\")\n",
    "\n",
    "plt.show()"
   ]
  },
  {
   "cell_type": "markdown",
   "metadata": {},
   "source": [
    "# Training"
   ]
  },
  {
   "cell_type": "markdown",
   "metadata": {},
   "source": [
    "## Parameters"
   ]
  },
  {
   "cell_type": "code",
   "execution_count": 17,
   "metadata": {},
   "outputs": [
    {
     "name": "stdout",
     "output_type": "stream",
     "text": [
      "Counts per class: Counter({43: 53075, 30: 46026, 49: 39203, 27: 33484, 50: 24608, 46: 15406, 19: 12885, 6: 12614, 16: 12182, 47: 11789, 14: 10401, 13: 10360, 28: 10213, 12: 9509, 18: 9401, 11: 9366, 15: 8006, 17: 7886, 44: 7814, 29: 7754, 48: 7705, 10: 6689, 9: 6208, 4: 6183, 5: 6106, 45: 5866, 8: 5754, 7: 5662, 25: 4693, 0: 4252, 32: 3494, 3: 2795, 1: 2639, 2: 2566, 41: 2330, 36: 2181, 38: 2026, 42: 1643, 31: 1214, 37: 1085, 40: 993, 35: 852, 39: 849, 24: 779, 22: 769, 34: 399, 21: 359, 20: 228, 33: 147, 26: 99, 23: 80})\n"
     ]
    },
    {
     "data": {
      "image/png": "[encoded data removed]",
      "text/plain": [
       "<Figure size 1000x400 with 2 Axes>"
      ]
     },
     "metadata": {},
     "output_type": "display_data"
    }
   ],
   "source": [
    "temp_dataset = md.NPZDataset(\n",
    "    unified_dataset_path,\n",
    "    split       =\"train\",\n",
    "    transform   =transform,\n",
    "    mmap_mode   =\"r\"\n",
    ")\n",
    "\n",
    "class_weights_tensor = compute_class_weights(temp_dataset, device)"
   ]
  },
  {
   "cell_type": "code",
   "execution_count": null,
   "metadata": {},
   "outputs": [],
   "source": [
    "epochs          =50\n",
    "arch            =\"vit\"\n",
    "\n",
    "optimizer_name  =\"AdamW\"\n",
    "lr              =1e-1\n",
    "momentum        =1\n",
    "weight_decay    =1e-4\n",
    "betas           =(0.9, 0.999)\n",
    "AMSGrad         =True\n",
    "\n",
    "stat_to_track   =\"val_loss\" # \"loss\" \"acc\" \"val_loss\" \"lr\"\n",
    "mode            =\"min\" # \"min\" \"max\"\n",
    "patience        =4\n",
    "delta           =5e-2\n",
    "delay           = 8"
   ]
  },
  {
   "cell_type": "code",
   "execution_count": null,
   "metadata": {},
   "outputs": [],
   "source": [
    "patch_size      =4\n",
    "depth           =24\n",
    "num_heads       =16\n",
    "mlp_ratio       =32"
   ]
  },
  {
   "cell_type": "markdown",
   "metadata": {},
   "source": [
    "## Model"
   ]
  },
  {
   "cell_type": "code",
   "execution_count": null,
   "metadata": {},
   "outputs": [],
   "source": [
    "model = VisionTransformer(\n",
    "    image_size          =image_size,\n",
    "    patch_size          =patch_size,\n",
    "    in_channels         =3, \n",
    "    num_classes         =51,\n",
    "    projection_dim      =patch_size*patch_size*3,\n",
    "    depth               =depth,\n",
    "    num_heads           =num_heads,\n",
    "    mlp_ratio           =mlp_ratio,\n",
    "    dropout             =0.3\n",
    ")"
   ]
  },
  {
   "cell_type": "code",
   "execution_count": 21,
   "metadata": {},
   "outputs": [
    {
     "data": {
      "text/plain": [
       "===============================================================================================\n",
       "Layer (type:depth-idx)                        Output Shape              Param #\n",
       "===============================================================================================\n",
       "VisionTransformer                             [2048, 51]                2,448\n",
       "├─PatchEmbedding: 1-1                         [2048, 49, 48]            --\n",
       "│    └─Patchify: 2-1                          [2048, 49, 48]            --\n",
       "│    └─Linear: 2-2                            [2048, 49, 48]            2,352\n",
       "├─Dropout: 1-2                                [2048, 50, 48]            --\n",
       "├─Sequential: 1-3                             [2048, 50, 48]            --\n",
       "│    └─TransformerBlock: 2-3                  [2048, 50, 48]            --\n",
       "│    │    └─LayerNorm: 3-1                    [2048, 50, 48]            96\n",
       "│    │    └─MultiHeadSelfAttention: 3-2       [2048, 50, 48]            9,408\n",
       "│    │    └─Dropout: 3-3                      [2048, 50, 48]            --\n",
       "│    │    └─LayerNorm: 3-4                    [2048, 50, 48]            96\n",
       "│    │    └─Sequential: 3-5                   [2048, 50, 48]            37,296\n",
       "│    │    └─Dropout: 3-6                      [2048, 50, 48]            --\n",
       "│    └─TransformerBlock: 2-4                  [2048, 50, 48]            --\n",
       "│    │    └─LayerNorm: 3-7                    [2048, 50, 48]            96\n",
       "│    │    └─MultiHeadSelfAttention: 3-8       [2048, 50, 48]            9,408\n",
       "│    │    └─Dropout: 3-9                      [2048, 50, 48]            --\n",
       "│    │    └─LayerNorm: 3-10                   [2048, 50, 48]            96\n",
       "│    │    └─Sequential: 3-11                  [2048, 50, 48]            37,296\n",
       "│    │    └─Dropout: 3-12                     [2048, 50, 48]            --\n",
       "│    └─TransformerBlock: 2-5                  [2048, 50, 48]            --\n",
       "│    │    └─LayerNorm: 3-13                   [2048, 50, 48]            96\n",
       "│    │    └─MultiHeadSelfAttention: 3-14      [2048, 50, 48]            9,408\n",
       "│    │    └─Dropout: 3-15                     [2048, 50, 48]            --\n",
       "│    │    └─LayerNorm: 3-16                   [2048, 50, 48]            96\n",
       "│    │    └─Sequential: 3-17                  [2048, 50, 48]            37,296\n",
       "│    │    └─Dropout: 3-18                     [2048, 50, 48]            --\n",
       "│    └─TransformerBlock: 2-6                  [2048, 50, 48]            --\n",
       "│    │    └─LayerNorm: 3-19                   [2048, 50, 48]            96\n",
       "│    │    └─MultiHeadSelfAttention: 3-20      [2048, 50, 48]            9,408\n",
       "│    │    └─Dropout: 3-21                     [2048, 50, 48]            --\n",
       "│    │    └─LayerNorm: 3-22                   [2048, 50, 48]            96\n",
       "│    │    └─Sequential: 3-23                  [2048, 50, 48]            37,296\n",
       "│    │    └─Dropout: 3-24                     [2048, 50, 48]            --\n",
       "│    └─TransformerBlock: 2-7                  [2048, 50, 48]            --\n",
       "│    │    └─LayerNorm: 3-25                   [2048, 50, 48]            96\n",
       "│    │    └─MultiHeadSelfAttention: 3-26      [2048, 50, 48]            9,408\n",
       "│    │    └─Dropout: 3-27                     [2048, 50, 48]            --\n",
       "│    │    └─LayerNorm: 3-28                   [2048, 50, 48]            96\n",
       "│    │    └─Sequential: 3-29                  [2048, 50, 48]            37,296\n",
       "│    │    └─Dropout: 3-30                     [2048, 50, 48]            --\n",
       "│    └─TransformerBlock: 2-8                  [2048, 50, 48]            --\n",
       "│    │    └─LayerNorm: 3-31                   [2048, 50, 48]            96\n",
       "│    │    └─MultiHeadSelfAttention: 3-32      [2048, 50, 48]            9,408\n",
       "│    │    └─Dropout: 3-33                     [2048, 50, 48]            --\n",
       "│    │    └─LayerNorm: 3-34                   [2048, 50, 48]            96\n",
       "│    │    └─Sequential: 3-35                  [2048, 50, 48]            37,296\n",
       "│    │    └─Dropout: 3-36                     [2048, 50, 48]            --\n",
       "│    └─TransformerBlock: 2-9                  [2048, 50, 48]            --\n",
       "│    │    └─LayerNorm: 3-37                   [2048, 50, 48]            96\n",
       "│    │    └─MultiHeadSelfAttention: 3-38      [2048, 50, 48]            9,408\n",
       "│    │    └─Dropout: 3-39                     [2048, 50, 48]            --\n",
       "│    │    └─LayerNorm: 3-40                   [2048, 50, 48]            96\n",
       "│    │    └─Sequential: 3-41                  [2048, 50, 48]            37,296\n",
       "│    │    └─Dropout: 3-42                     [2048, 50, 48]            --\n",
       "│    └─TransformerBlock: 2-10                 [2048, 50, 48]            --\n",
       "│    │    └─LayerNorm: 3-43                   [2048, 50, 48]            96\n",
       "│    │    └─MultiHeadSelfAttention: 3-44      [2048, 50, 48]            9,408\n",
       "│    │    └─Dropout: 3-45                     [2048, 50, 48]            --\n",
       "│    │    └─LayerNorm: 3-46                   [2048, 50, 48]            96\n",
       "│    │    └─Sequential: 3-47                  [2048, 50, 48]            37,296\n",
       "│    │    └─Dropout: 3-48                     [2048, 50, 48]            --\n",
       "│    └─TransformerBlock: 2-11                 [2048, 50, 48]            --\n",
       "│    │    └─LayerNorm: 3-49                   [2048, 50, 48]            96\n",
       "│    │    └─MultiHeadSelfAttention: 3-50      [2048, 50, 48]            9,408\n",
       "│    │    └─Dropout: 3-51                     [2048, 50, 48]            --\n",
       "│    │    └─LayerNorm: 3-52                   [2048, 50, 48]            96\n",
       "│    │    └─Sequential: 3-53                  [2048, 50, 48]            37,296\n",
       "│    │    └─Dropout: 3-54                     [2048, 50, 48]            --\n",
       "│    └─TransformerBlock: 2-12                 [2048, 50, 48]            --\n",
       "│    │    └─LayerNorm: 3-55                   [2048, 50, 48]            96\n",
       "│    │    └─MultiHeadSelfAttention: 3-56      [2048, 50, 48]            9,408\n",
       "│    │    └─Dropout: 3-57                     [2048, 50, 48]            --\n",
       "│    │    └─LayerNorm: 3-58                   [2048, 50, 48]            96\n",
       "│    │    └─Sequential: 3-59                  [2048, 50, 48]            37,296\n",
       "│    │    └─Dropout: 3-60                     [2048, 50, 48]            --\n",
       "│    └─TransformerBlock: 2-13                 [2048, 50, 48]            --\n",
       "│    │    └─LayerNorm: 3-61                   [2048, 50, 48]            96\n",
       "│    │    └─MultiHeadSelfAttention: 3-62      [2048, 50, 48]            9,408\n",
       "│    │    └─Dropout: 3-63                     [2048, 50, 48]            --\n",
       "│    │    └─LayerNorm: 3-64                   [2048, 50, 48]            96\n",
       "│    │    └─Sequential: 3-65                  [2048, 50, 48]            37,296\n",
       "│    │    └─Dropout: 3-66                     [2048, 50, 48]            --\n",
       "│    └─TransformerBlock: 2-14                 [2048, 50, 48]            --\n",
       "│    │    └─LayerNorm: 3-67                   [2048, 50, 48]            96\n",
       "│    │    └─MultiHeadSelfAttention: 3-68      [2048, 50, 48]            9,408\n",
       "│    │    └─Dropout: 3-69                     [2048, 50, 48]            --\n",
       "│    │    └─LayerNorm: 3-70                   [2048, 50, 48]            96\n",
       "│    │    └─Sequential: 3-71                  [2048, 50, 48]            37,296\n",
       "│    │    └─Dropout: 3-72                     [2048, 50, 48]            --\n",
       "│    └─TransformerBlock: 2-15                 [2048, 50, 48]            --\n",
       "│    │    └─LayerNorm: 3-73                   [2048, 50, 48]            96\n",
       "│    │    └─MultiHeadSelfAttention: 3-74      [2048, 50, 48]            9,408\n",
       "│    │    └─Dropout: 3-75                     [2048, 50, 48]            --\n",
       "│    │    └─LayerNorm: 3-76                   [2048, 50, 48]            96\n",
       "│    │    └─Sequential: 3-77                  [2048, 50, 48]            37,296\n",
       "│    │    └─Dropout: 3-78                     [2048, 50, 48]            --\n",
       "│    └─TransformerBlock: 2-16                 [2048, 50, 48]            --\n",
       "│    │    └─LayerNorm: 3-79                   [2048, 50, 48]            96\n",
       "│    │    └─MultiHeadSelfAttention: 3-80      [2048, 50, 48]            9,408\n",
       "│    │    └─Dropout: 3-81                     [2048, 50, 48]            --\n",
       "│    │    └─LayerNorm: 3-82                   [2048, 50, 48]            96\n",
       "│    │    └─Sequential: 3-83                  [2048, 50, 48]            37,296\n",
       "│    │    └─Dropout: 3-84                     [2048, 50, 48]            --\n",
       "│    └─TransformerBlock: 2-17                 [2048, 50, 48]            --\n",
       "│    │    └─LayerNorm: 3-85                   [2048, 50, 48]            96\n",
       "│    │    └─MultiHeadSelfAttention: 3-86      [2048, 50, 48]            9,408\n",
       "│    │    └─Dropout: 3-87                     [2048, 50, 48]            --\n",
       "│    │    └─LayerNorm: 3-88                   [2048, 50, 48]            96\n",
       "│    │    └─Sequential: 3-89                  [2048, 50, 48]            37,296\n",
       "│    │    └─Dropout: 3-90                     [2048, 50, 48]            --\n",
       "│    └─TransformerBlock: 2-18                 [2048, 50, 48]            --\n",
       "│    │    └─LayerNorm: 3-91                   [2048, 50, 48]            96\n",
       "│    │    └─MultiHeadSelfAttention: 3-92      [2048, 50, 48]            9,408\n",
       "│    │    └─Dropout: 3-93                     [2048, 50, 48]            --\n",
       "│    │    └─LayerNorm: 3-94                   [2048, 50, 48]            96\n",
       "│    │    └─Sequential: 3-95                  [2048, 50, 48]            37,296\n",
       "│    │    └─Dropout: 3-96                     [2048, 50, 48]            --\n",
       "│    └─TransformerBlock: 2-19                 [2048, 50, 48]            --\n",
       "│    │    └─LayerNorm: 3-97                   [2048, 50, 48]            96\n",
       "│    │    └─MultiHeadSelfAttention: 3-98      [2048, 50, 48]            9,408\n",
       "│    │    └─Dropout: 3-99                     [2048, 50, 48]            --\n",
       "│    │    └─LayerNorm: 3-100                  [2048, 50, 48]            96\n",
       "│    │    └─Sequential: 3-101                 [2048, 50, 48]            37,296\n",
       "│    │    └─Dropout: 3-102                    [2048, 50, 48]            --\n",
       "│    └─TransformerBlock: 2-20                 [2048, 50, 48]            --\n",
       "│    │    └─LayerNorm: 3-103                  [2048, 50, 48]            96\n",
       "│    │    └─MultiHeadSelfAttention: 3-104     [2048, 50, 48]            9,408\n",
       "│    │    └─Dropout: 3-105                    [2048, 50, 48]            --\n",
       "│    │    └─LayerNorm: 3-106                  [2048, 50, 48]            96\n",
       "│    │    └─Sequential: 3-107                 [2048, 50, 48]            37,296\n",
       "│    │    └─Dropout: 3-108                    [2048, 50, 48]            --\n",
       "│    └─TransformerBlock: 2-21                 [2048, 50, 48]            --\n",
       "│    │    └─LayerNorm: 3-109                  [2048, 50, 48]            96\n",
       "│    │    └─MultiHeadSelfAttention: 3-110     [2048, 50, 48]            9,408\n",
       "│    │    └─Dropout: 3-111                    [2048, 50, 48]            --\n",
       "│    │    └─LayerNorm: 3-112                  [2048, 50, 48]            96\n",
       "│    │    └─Sequential: 3-113                 [2048, 50, 48]            37,296\n",
       "│    │    └─Dropout: 3-114                    [2048, 50, 48]            --\n",
       "│    └─TransformerBlock: 2-22                 [2048, 50, 48]            --\n",
       "│    │    └─LayerNorm: 3-115                  [2048, 50, 48]            96\n",
       "│    │    └─MultiHeadSelfAttention: 3-116     [2048, 50, 48]            9,408\n",
       "│    │    └─Dropout: 3-117                    [2048, 50, 48]            --\n",
       "│    │    └─LayerNorm: 3-118                  [2048, 50, 48]            96\n",
       "│    │    └─Sequential: 3-119                 [2048, 50, 48]            37,296\n",
       "│    │    └─Dropout: 3-120                    [2048, 50, 48]            --\n",
       "│    └─TransformerBlock: 2-23                 [2048, 50, 48]            --\n",
       "│    │    └─LayerNorm: 3-121                  [2048, 50, 48]            96\n",
       "│    │    └─MultiHeadSelfAttention: 3-122     [2048, 50, 48]            9,408\n",
       "│    │    └─Dropout: 3-123                    [2048, 50, 48]            --\n",
       "│    │    └─LayerNorm: 3-124                  [2048, 50, 48]            96\n",
       "│    │    └─Sequential: 3-125                 [2048, 50, 48]            37,296\n",
       "│    │    └─Dropout: 3-126                    [2048, 50, 48]            --\n",
       "│    └─TransformerBlock: 2-24                 [2048, 50, 48]            --\n",
       "│    │    └─LayerNorm: 3-127                  [2048, 50, 48]            96\n",
       "│    │    └─MultiHeadSelfAttention: 3-128     [2048, 50, 48]            9,408\n",
       "│    │    └─Dropout: 3-129                    [2048, 50, 48]            --\n",
       "│    │    └─LayerNorm: 3-130                  [2048, 50, 48]            96\n",
       "│    │    └─Sequential: 3-131                 [2048, 50, 48]            37,296\n",
       "│    │    └─Dropout: 3-132                    [2048, 50, 48]            --\n",
       "│    └─TransformerBlock: 2-25                 [2048, 50, 48]            --\n",
       "│    │    └─LayerNorm: 3-133                  [2048, 50, 48]            96\n",
       "│    │    └─MultiHeadSelfAttention: 3-134     [2048, 50, 48]            9,408\n",
       "│    │    └─Dropout: 3-135                    [2048, 50, 48]            --\n",
       "│    │    └─LayerNorm: 3-136                  [2048, 50, 48]            96\n",
       "│    │    └─Sequential: 3-137                 [2048, 50, 48]            37,296\n",
       "│    │    └─Dropout: 3-138                    [2048, 50, 48]            --\n",
       "│    └─TransformerBlock: 2-26                 [2048, 50, 48]            --\n",
       "│    │    └─LayerNorm: 3-139                  [2048, 50, 48]            96\n",
       "│    │    └─MultiHeadSelfAttention: 3-140     [2048, 50, 48]            9,408\n",
       "│    │    └─Dropout: 3-141                    [2048, 50, 48]            --\n",
       "│    │    └─LayerNorm: 3-142                  [2048, 50, 48]            96\n",
       "│    │    └─Sequential: 3-143                 [2048, 50, 48]            37,296\n",
       "│    │    └─Dropout: 3-144                    [2048, 50, 48]            --\n",
       "├─LayerNorm: 1-4                              [2048, 50, 48]            96\n",
       "├─Linear: 1-5                                 [2048, 51]                2,499\n",
       "===============================================================================================\n",
       "Total params: 1,132,899\n",
       "Trainable params: 1,132,899\n",
       "Non-trainable params: 0\n",
       "Total mult-adds (G): 2.32\n",
       "===============================================================================================\n",
       "Input size (MB): 19.27\n",
       "Forward/backward pass size (MB): 14234.47\n",
       "Params size (MB): 4.52\n",
       "Estimated Total Size (MB): 14258.26\n",
       "==============================================================================================="
      ]
     },
     "execution_count": 21,
     "metadata": {},
     "output_type": "execute_result"
    }
   ],
   "source": [
    "summary(model, input_size=(batch_size, 3, image_size, image_size))"
   ]
  },
  {
   "cell_type": "code",
   "execution_count": 22,
   "metadata": {},
   "outputs": [
    {
     "name": "stdout",
     "output_type": "stream",
     "text": [
      "Sun Feb 23 20:11:41 2025       \n",
      "+-----------------------------------------------------------------------------------------+\n",
      "| NVIDIA-SMI 560.35.03              Driver Version: 560.35.03      CUDA Version: 12.6     |\n",
      "|-----------------------------------------+------------------------+----------------------+\n",
      "| GPU  Name                 Persistence-M | Bus-Id          Disp.A | Volatile Uncorr. ECC |\n",
      "| Fan  Temp   Perf          Pwr:Usage/Cap |           Memory-Usage | GPU-Util  Compute M. |\n",
      "|                                         |                        |               MIG M. |\n",
      "|=========================================+========================+======================|\n",
      "|   0  NVIDIA RTX 6000 Ada Gene...    On  |   00000000:C1:00.0 Off |                    0 |\n",
      "| 30%   47C    P2             56W /  300W |    1323MiB /  46068MiB |     23%      Default |\n",
      "|                                         |                        |                  N/A |\n",
      "+-----------------------------------------+------------------------+----------------------+\n",
      "                                                                                         \n",
      "+-----------------------------------------------------------------------------------------+\n",
      "| Processes:                                                                              |\n",
      "|  GPU   GI   CI        PID   Type   Process name                              GPU Memory |\n",
      "|        ID   ID                                                               Usage      |\n",
      "|=========================================================================================|\n",
      "+-----------------------------------------------------------------------------------------+\n"
     ]
    }
   ],
   "source": [
    "!nvidia-smi"
   ]
  },
  {
   "cell_type": "code",
   "execution_count": 23,
   "metadata": {},
   "outputs": [],
   "source": [
    "models_dir_path = os.path.join(CWD, \"models\")\n",
    "os.makedirs(models_dir_path, exist_ok=True)\n",
    "\n",
    "model_save_path = os.path.join(models_dir_path, f\"{arch}_d{depth}_h{num_heads}_mlr{mlp_ratio}.pth\")"
   ]
  },
  {
   "cell_type": "code",
   "execution_count": null,
   "metadata": {},
   "outputs": [
    {
     "name": "stderr",
     "output_type": "stream",
     "text": [
      "  1/50: 100%|█| 215/215 [02:30<00:00,  1.42 batch/s, loss=2.613, lr=1.0e-01, acc=15.88%, val_loss=1.914, val_acc=34.59%]\n",
      "  2/50: 100%|█| 215/215 [02:31<00:00,  1.42 batch/s, loss=2.029, lr=1.0e-01, acc=23.56%, val_loss=2.600, val_acc=12.14%]\n",
      "  3/50:  33%|███████████████▏                              | 71/215 [00:49<01:36,  1.49 batch/s, loss=2.063, acc=22.51%]"
     ]
    }
   ],
   "source": [
    "# Loss function\n",
    "criterion = nn.CrossEntropyLoss(weight=class_weights_tensor)\n",
    "\n",
    "# Optimizer selection\n",
    "if optimizer_name == \"SGD\":\n",
    "    optimizer = optim.SGD(model.parameters(), lr=lr, momentum=momentum, weight_decay=weight_decay)\n",
    "elif optimizer_name == \"Adam\":\n",
    "    optimizer = optim.Adam(model.parameters(), lr=lr, weight_decay=weight_decay)\n",
    "elif optimizer_name == \"AdamW\":\n",
    "    optimizer = optim.AdamW(model.parameters(), lr=lr, weight_decay=weight_decay, beta=betas, AMSGrad=AMSGrad)\n",
    "\n",
    "\n",
    "# Initialize the scheduler\n",
    "# Uncomment the scheduler you want to use:\n",
    "# scheduler = StepLR(optimizer, step_size=5, gamma=0.5)  # Decreases LR by gamma every step_size epochs\n",
    "scheduler = CosineAnnealingLR(optimizer, T_max=epochs)  # Adjusts LR using cosine annealing over epochs\n",
    "\n",
    "\n",
    "# Early stopping\n",
    "stop_fn = EarlyStopping(\n",
    "    stat_to_track       =stat_to_track,\n",
    "    mode                =mode,\n",
    "    patience            =patience,\n",
    "    delta               =delta,\n",
    "    delay               =delay,\n",
    "    save_path           =model_save_path\n",
    ")\n",
    "\n",
    "train_loop(\n",
    "    model,\n",
    "    criterion           =criterion,\n",
    "    optimizer           =optimizer,\n",
    "    scheduler           =scheduler,\n",
    "    epochs              =epochs,\n",
    "    train_loader        =train_loader,\n",
    "    validation_loader   =validation_loader,\n",
    "    device              =device,\n",
    "    stop_fn             =stop_fn\n",
    ")\n",
    "\n",
    "stopping_report = stop_fn.report()\n",
    "\n",
    "# If the model was not stopped by EarlyStopping, save it\n",
    "if not stopping_report:\n",
    "    torch.save(model.state_dict(), model_save_path)\n",
    "else:\n",
    "    for key in stopping_report:\n",
    "        print(f\"{key}: {stopping_report[key]}\")"
   ]
  },
  {
   "cell_type": "code",
   "execution_count": null,
   "metadata": {},
   "outputs": [],
   "source": []
  }
 ],
 "metadata": {
  "kernelspec": {
   "display_name": "med-mnist",
   "language": "python",
   "name": "python3"
  },
  "language_info": {
   "name": "python",
   "version": "3.10.16"
  }
 },
 "nbformat": 4,
 "nbformat_minor": 2
}
