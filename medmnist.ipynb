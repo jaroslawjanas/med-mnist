{
 "cells": [
  {
   "cell_type": "markdown",
   "metadata": {},
   "source": [
    "# Environment"
   ]
  },
  {
   "cell_type": "code",
   "execution_count": 1,
   "metadata": {},
   "outputs": [],
   "source": [
    "import os\n",
    "from pprint import pprint\n",
    "import matplotlib.pyplot as plt\n",
    "\n",
    "import torch\n",
    "import torch.nn as nn\n",
    "import torch.optim as optim\n",
    "from torch.optim.lr_scheduler import StepLR, CosineAnnealingLR\n",
    "from torch.utils.data import DataLoader\n",
    "from torchvision.transforms import v2\n",
    "from torchvision.transforms.functional import InterpolationMode\n",
    "\n",
    "import medmnist\n",
    "from medmnist import INFO\n",
    "\n",
    "import src.medmnist_dataset as md\n",
    "from src.architectures import architecture, VisionTransformer\n",
    "from src.train import train_loop, EarlyStopping"
   ]
  },
  {
   "cell_type": "code",
   "execution_count": 2,
   "metadata": {},
   "outputs": [
    {
     "name": "stdout",
     "output_type": "stream",
     "text": [
      "Device: cuda\n"
     ]
    }
   ],
   "source": [
    "# Set the global device\n",
    "device = torch.device(\"cuda\" if torch.cuda.is_available() else \"cpu\")\n",
    "print(f\"Device: {device}\")"
   ]
  },
  {
   "cell_type": "code",
   "execution_count": 3,
   "metadata": {},
   "outputs": [],
   "source": [
    "# Get CWD\n",
    "CWD = os.getcwd()"
   ]
  },
  {
   "cell_type": "code",
   "execution_count": 4,
   "metadata": {},
   "outputs": [
    {
     "name": "stdout",
     "output_type": "stream",
     "text": [
      "3.0.2\n"
     ]
    }
   ],
   "source": [
    "print(medmnist.__version__)"
   ]
  },
  {
   "cell_type": "markdown",
   "metadata": {},
   "source": [
    "# Data"
   ]
  },
  {
   "cell_type": "markdown",
   "metadata": {},
   "source": [
    "## Data Download"
   ]
  },
  {
   "cell_type": "code",
   "execution_count": 5,
   "metadata": {},
   "outputs": [],
   "source": [
    "avaliable_datasets = [\"pathmnist\", \"dermamnist\", \\\n",
    "                    \"octmnist\", \"pneumoniamnist\", \"breastmnist\", \\\n",
    "                    \"bloodmnist\", \"tissuemnist\", \"organamnist\", \\\n",
    "                    \"organcmnist\", \"organsmnist\"] # \"retinamnist\", \"chestmnist\"]"
   ]
  },
  {
   "cell_type": "code",
   "execution_count": 6,
   "metadata": {},
   "outputs": [
    {
     "name": "stdout",
     "output_type": "stream",
     "text": [
      "----------------------------------------------------------------------------------------------------\n",
      "Dataset: pathmnist\n",
      "Python: PathMNIST\n",
      "Task: multi-class\n",
      "Number of classes: 9\n",
      "Channels: 3\n",
      "Classes:\n",
      "{'0': 'adipose',\n",
      " '1': 'background',\n",
      " '2': 'debris',\n",
      " '3': 'lymphocytes',\n",
      " '4': 'mucus',\n",
      " '5': 'smooth muscle',\n",
      " '6': 'normal colon mucosa',\n",
      " '7': 'cancer-associated stroma',\n",
      " '8': 'colorectal adenocarcinoma epithelium'}\n",
      "----------------------------------------------------------------------------------------------------\n",
      "Dataset: dermamnist\n",
      "Python: DermaMNIST\n",
      "Task: multi-class\n",
      "Number of classes: 7\n",
      "Channels: 3\n",
      "Classes:\n",
      "{'0': 'actinic keratoses and intraepithelial carcinoma',\n",
      " '1': 'basal cell carcinoma',\n",
      " '2': 'benign keratosis-like lesions',\n",
      " '3': 'dermatofibroma',\n",
      " '4': 'melanoma',\n",
      " '5': 'melanocytic nevi',\n",
      " '6': 'vascular lesions'}\n",
      "----------------------------------------------------------------------------------------------------\n",
      "Dataset: octmnist\n",
      "Python: OCTMNIST\n",
      "Task: multi-class\n",
      "Number of classes: 4\n",
      "Channels: 1\n",
      "Classes:\n",
      "{'0': 'choroidal neovascularization',\n",
      " '1': 'diabetic macular edema',\n",
      " '2': 'drusen',\n",
      " '3': 'normal'}\n",
      "----------------------------------------------------------------------------------------------------\n",
      "Dataset: pneumoniamnist\n",
      "Python: PneumoniaMNIST\n",
      "Task: binary-class\n",
      "Number of classes: 2\n",
      "Channels: 1\n",
      "Classes:\n",
      "{'0': 'normal', '1': 'pneumonia'}\n",
      "----------------------------------------------------------------------------------------------------\n",
      "Dataset: breastmnist\n",
      "Python: BreastMNIST\n",
      "Task: binary-class\n",
      "Number of classes: 2\n",
      "Channels: 1\n",
      "Classes:\n",
      "{'0': 'malignant', '1': 'normal, benign'}\n",
      "----------------------------------------------------------------------------------------------------\n",
      "Dataset: bloodmnist\n",
      "Python: BloodMNIST\n",
      "Task: multi-class\n",
      "Number of classes: 8\n",
      "Channels: 3\n",
      "Classes:\n",
      "{'0': 'basophil',\n",
      " '1': 'eosinophil',\n",
      " '2': 'erythroblast',\n",
      " '3': 'immature granulocytes(myelocytes, metamyelocytes and promyelocytes)',\n",
      " '4': 'lymphocyte',\n",
      " '5': 'monocyte',\n",
      " '6': 'neutrophil',\n",
      " '7': 'platelet'}\n",
      "----------------------------------------------------------------------------------------------------\n",
      "Dataset: tissuemnist\n",
      "Python: TissueMNIST\n",
      "Task: multi-class\n",
      "Number of classes: 8\n",
      "Channels: 1\n",
      "Classes:\n",
      "{'0': 'Collecting Duct, Connecting Tubule',\n",
      " '1': 'Distal Convoluted Tubule',\n",
      " '2': 'Glomerular endothelial cells',\n",
      " '3': 'Interstitial endothelial cells',\n",
      " '4': 'Leukocytes',\n",
      " '5': 'Podocytes',\n",
      " '6': 'Proximal Tubule Segments',\n",
      " '7': 'Thick Ascending Limb'}\n",
      "----------------------------------------------------------------------------------------------------\n",
      "Dataset: organamnist\n",
      "Python: OrganAMNIST\n",
      "Task: multi-class\n",
      "Number of classes: 11\n",
      "Channels: 1\n",
      "Classes:\n",
      "{'0': 'bladder',\n",
      " '1': 'femur-left',\n",
      " '10': 'spleen',\n",
      " '2': 'femur-right',\n",
      " '3': 'heart',\n",
      " '4': 'kidney-left',\n",
      " '5': 'kidney-right',\n",
      " '6': 'liver',\n",
      " '7': 'lung-left',\n",
      " '8': 'lung-right',\n",
      " '9': 'pancreas'}\n",
      "----------------------------------------------------------------------------------------------------\n",
      "Dataset: organcmnist\n",
      "Python: OrganCMNIST\n",
      "Task: multi-class\n",
      "Number of classes: 11\n",
      "Channels: 1\n",
      "Classes:\n",
      "{'0': 'bladder',\n",
      " '1': 'femur-left',\n",
      " '10': 'spleen',\n",
      " '2': 'femur-right',\n",
      " '3': 'heart',\n",
      " '4': 'kidney-left',\n",
      " '5': 'kidney-right',\n",
      " '6': 'liver',\n",
      " '7': 'lung-left',\n",
      " '8': 'lung-right',\n",
      " '9': 'pancreas'}\n",
      "----------------------------------------------------------------------------------------------------\n",
      "Dataset: organsmnist\n",
      "Python: OrganSMNIST\n",
      "Task: multi-class\n",
      "Number of classes: 11\n",
      "Channels: 1\n",
      "Classes:\n",
      "{'0': 'bladder',\n",
      " '1': 'femur-left',\n",
      " '10': 'spleen',\n",
      " '2': 'femur-right',\n",
      " '3': 'heart',\n",
      " '4': 'kidney-left',\n",
      " '5': 'kidney-right',\n",
      " '6': 'liver',\n",
      " '7': 'lung-left',\n",
      " '8': 'lung-right',\n",
      " '9': 'pancreas'}\n"
     ]
    }
   ],
   "source": [
    "for dataset_name in avaliable_datasets:\n",
    "    \n",
    "    info = INFO[dataset_name]\n",
    "    print(f\"-\"*100)\n",
    "    print(f\"Dataset: {dataset_name}\")\n",
    "    print(f\"Python: {info['python_class']}\")\n",
    "    print(f\"Task: {info['task']}\")\n",
    "    print(f\"Number of classes: {len(info['label'])}\")\n",
    "    print(f\"Channels: {info['n_channels']}\")\n",
    "    print(\"Classes:\")\n",
    "    pprint(info['label'])"
   ]
  },
  {
   "cell_type": "code",
   "execution_count": 7,
   "metadata": {},
   "outputs": [
    {
     "name": "stdout",
     "output_type": "stream",
     "text": [
      "File d:\\AI\\med-mnist\\datasets\\28\\pathmnist_28.npz already exists. Skipping download.\n",
      "File d:\\AI\\med-mnist\\datasets\\28\\dermamnist_28.npz already exists. Skipping download.\n",
      "File d:\\AI\\med-mnist\\datasets\\28\\octmnist_28.npz already exists. Skipping download.\n",
      "File d:\\AI\\med-mnist\\datasets\\28\\pneumoniamnist_28.npz already exists. Skipping download.\n",
      "File d:\\AI\\med-mnist\\datasets\\28\\breastmnist_28.npz already exists. Skipping download.\n",
      "File d:\\AI\\med-mnist\\datasets\\28\\bloodmnist_28.npz already exists. Skipping download.\n",
      "File d:\\AI\\med-mnist\\datasets\\28\\tissuemnist_28.npz already exists. Skipping download.\n",
      "File d:\\AI\\med-mnist\\datasets\\28\\organamnist_28.npz already exists. Skipping download.\n",
      "File d:\\AI\\med-mnist\\datasets\\28\\organcmnist_28.npz already exists. Skipping download.\n",
      "File d:\\AI\\med-mnist\\datasets\\28\\organsmnist_28.npz already exists. Skipping download.\n"
     ]
    }
   ],
   "source": [
    "image_size = 28 # 28, 64, 128 or 256\n",
    "datasets_path = os.path.join(CWD, \"datasets\", str(image_size))\n",
    "os.makedirs(datasets_path, exist_ok=True)\n",
    "\n",
    "md.download(avaliable_datasets, datasets_path, image_size)"
   ]
  },
  {
   "cell_type": "markdown",
   "metadata": {},
   "source": [
    "## Dataset Unification"
   ]
  },
  {
   "cell_type": "code",
   "execution_count": 8,
   "metadata": {},
   "outputs": [
    {
     "name": "stdout",
     "output_type": "stream",
     "text": [
      "File d:\\AI\\med-mnist\\datasets\\28\\organs_28.npz already exists.\n"
     ]
    }
   ],
   "source": [
    "organ_datasets = [\"organamnist\", \"organcmnist\", \"organsmnist\"] # These are the same - have the same classes\n",
    "\n",
    "md.unify_data(\n",
    "    organ_datasets,\n",
    "    are_unique_classes      = False,\n",
    "    image_size              = image_size,\n",
    "    datasets_path           = datasets_path,\n",
    "    save_path               = datasets_path,\n",
    "    filename                = f\"organs_{image_size}\"\n",
    ");"
   ]
  },
  {
   "cell_type": "code",
   "execution_count": 9,
   "metadata": {},
   "outputs": [
    {
     "name": "stdout",
     "output_type": "stream",
     "text": [
      "File d:\\AI\\med-mnist\\datasets\\28\\unified_28.npz already exists.\n"
     ]
    }
   ],
   "source": [
    "new_avaliable_datasets = [\"organs\", \"pathmnist\", \"dermamnist\", \"octmnist\", \"pneumoniamnist\", \\\n",
    "                            \"breastmnist\", \"bloodmnist\", \"tissuemnist\"]\n",
    "\n",
    "md.unify_data(\n",
    "    new_avaliable_datasets,\n",
    "    are_unique_classes      = True,\n",
    "    image_size              = image_size,\n",
    "    datasets_path           = datasets_path,\n",
    "    save_path               = datasets_path,\n",
    "    filename                = f\"unified_{image_size}\"\n",
    ");"
   ]
  },
  {
   "cell_type": "markdown",
   "metadata": {},
   "source": [
    "## Dataset"
   ]
  },
  {
   "cell_type": "code",
   "execution_count": 10,
   "metadata": {},
   "outputs": [],
   "source": [
    "transform = v2.Compose(\n",
    "    [\n",
    "        v2.ToDtype(torch.float32, scale=True),\n",
    "        v2.Normalize([0.5, 0.5, 0.5], [0.5, 0.5, 0.5])\n",
    "    ]\n",
    ")\n",
    "\n",
    "# Training augmentations\n",
    "augmentation = v2.Compose(\n",
    "    [\n",
    "        transform,\n",
    "        v2.RandomHorizontalFlip(p=0.5),\n",
    "        v2.Pad(round(image_size/10), padding_mode=\"reflect\"),\n",
    "        v2.RandomRotation(degrees=10, interpolation=InterpolationMode.BILINEAR),\n",
    "        v2.CenterCrop(size=(image_size, image_size))\n",
    "    ]\n",
    ")"
   ]
  },
  {
   "cell_type": "code",
   "execution_count": 11,
   "metadata": {},
   "outputs": [],
   "source": [
    "unified_dataset_path = os.path.join(datasets_path, f\"unified_{image_size}.npz\")\n",
    "\n",
    "train_dataset = md.NPZDataset(unified_dataset_path, split=\"train\", transform=augmentation)\n",
    "validation_dataset = md.NPZDataset(unified_dataset_path, split=\"val\", transform=transform)"
   ]
  },
  {
   "cell_type": "markdown",
   "metadata": {},
   "source": [
    "## Data Loader"
   ]
  },
  {
   "cell_type": "code",
   "execution_count": 12,
   "metadata": {},
   "outputs": [],
   "source": [
    "batch_size = 256\n",
    "num_workers = 4"
   ]
  },
  {
   "cell_type": "code",
   "execution_count": 13,
   "metadata": {},
   "outputs": [],
   "source": [
    "train_loader = DataLoader(\n",
    "    train_dataset,\n",
    "    batch_size          =batch_size, \n",
    "    shuffle             =True,\n",
    "    num_workers         =num_workers,\n",
    "    prefetch_factor     =10,\n",
    ")\n",
    "\n",
    "validation_loader = DataLoader(\n",
    "    validation_dataset,\n",
    "    batch_size          =batch_size, \n",
    "    shuffle             =False,\n",
    "    num_workers         =num_workers,\n",
    "    prefetch_factor     =10,\n",
    ")"
   ]
  },
  {
   "cell_type": "markdown",
   "metadata": {},
   "source": [
    "### Test Data Loader"
   ]
  },
  {
   "cell_type": "code",
   "execution_count": 14,
   "metadata": {},
   "outputs": [
    {
     "data": {
      "image/png": "[encoded data removed]",
      "text/plain": [
       "<Figure size 1200x500 with 10 Axes>"
      ]
     },
     "metadata": {},
     "output_type": "display_data"
    }
   ],
   "source": [
    "# Get one batch from train_loader\n",
    "batch = next(iter(train_loader))\n",
    "images, labels = batch  # Unpack batch\n",
    "\n",
    "# # Denormalize for visualization\n",
    "mean = torch.tensor([0.5, 0.5, 0.5]).view(3, 1, 1)  # Shape (C, 1, 1)\n",
    "std = torch.tensor([0.5, 0.5, 0.5]).view(3, 1, 1)\n",
    "\n",
    "# Convert images back to [0, 1] range for visualization\n",
    "images = images * std + mean  \n",
    "images = torch.clamp(images, 0, 1)  # Ensure values stay in range\n",
    "\n",
    "# Plot some images\n",
    "fig, axes = plt.subplots(2, 5, figsize=(12, 5))  # Grid 2x5\n",
    "for i, ax in enumerate(axes.flat):\n",
    "    img = images[i].permute(1, 2, 0).cpu().numpy()  # Convert (C, H, W) → (H, W, C)\n",
    "    ax.imshow(img)\n",
    "    ax.axis(\"off\")\n",
    "\n",
    "plt.show()"
   ]
  },
  {
   "cell_type": "markdown",
   "metadata": {},
   "source": [
    "# Training"
   ]
  },
  {
   "cell_type": "markdown",
   "metadata": {},
   "source": [
    "## Parameters"
   ]
  },
  {
   "cell_type": "code",
   "execution_count": 15,
   "metadata": {},
   "outputs": [],
   "source": [
    "epochs          =50\n",
    "arch            =\"vit\"\n",
    "\n",
    "optimizer_name  =\"Adam\"\n",
    "lr              =1e-4\n",
    "momentum        =1\n",
    "weight_decay    =1e-3\n",
    "\n",
    "stat_to_track   =\"val_loss\" # \"loss\" \"acc\" \"val_loss\" \"lr\"\n",
    "mode            =\"min\" # \"min\" \"max\"\n",
    "patience        =4\n",
    "delta           =5e-2\n",
    "delay           = 8"
   ]
  },
  {
   "cell_type": "code",
   "execution_count": 16,
   "metadata": {},
   "outputs": [],
   "source": [
    "patch_size      =4\n",
    "depth           =8\n",
    "num_heads       =8\n",
    "mlp_ratio       =4"
   ]
  },
  {
   "cell_type": "markdown",
   "metadata": {},
   "source": [
    "## Model"
   ]
  },
  {
   "cell_type": "code",
   "execution_count": 17,
   "metadata": {},
   "outputs": [],
   "source": [
    "model = VisionTransformer(\n",
    "    image_size          =image_size,\n",
    "    patch_size          =patch_size,\n",
    "    in_channels         =3, \n",
    "    num_classes         =51,\n",
    "    projection_dim      =patch_size*patch_size*3,\n",
    "    depth               =depth,\n",
    "    num_heads           =num_heads,\n",
    "    mlp_ratio           =mlp_ratio,\n",
    "    dropout             =0.5\n",
    ")"
   ]
  },
  {
   "cell_type": "code",
   "execution_count": 18,
   "metadata": {},
   "outputs": [],
   "source": [
    "models_dir_path = os.path.join(CWD, \"models\")\n",
    "os.makedirs(models_dir_path, exist_ok=True)\n",
    "\n",
    "model_save_path = os.path.join(models_dir_path, f\"{arch}_d{depth}_h{num_heads}_mlr{mlp_ratio}.pth\")"
   ]
  },
  {
   "cell_type": "code",
   "execution_count": 19,
   "metadata": {},
   "outputs": [
    {
     "name": "stderr",
     "output_type": "stream",
     "text": [
      "  1/50: 100%|██████████| 1714/1714 [02:57<00:00,  9.64 batch/s, loss=2.061, lr=1.0e-04, acc=35.31%, val_loss=1.891, val_acc=38.09%]\n",
      "  2/50: 100%|██████████| 1714/1714 [02:50<00:00, 10.03 batch/s, loss=1.454, lr=1.0e-04, acc=48.09%, val_loss=1.844, val_acc=41.37%]\n",
      "  3/50: 100%|██████████| 1714/1714 [02:51<00:00,  9.99 batch/s, loss=1.349, lr=1.0e-04, acc=51.31%, val_loss=1.692, val_acc=43.62%]\n",
      "  4/50: 100%|██████████| 1714/1714 [02:50<00:00, 10.06 batch/s, loss=1.290, lr=9.9e-05, acc=53.41%, val_loss=1.580, val_acc=46.34%]\n",
      "  5/50: 100%|██████████| 1714/1714 [02:51<00:00, 10.01 batch/s, loss=1.253, lr=9.8e-05, acc=54.73%, val_loss=1.599, val_acc=46.49%]\n",
      "  6/50: 100%|██████████| 1714/1714 [02:56<00:00,  9.69 batch/s, loss=1.225, lr=9.8e-05, acc=55.54%, val_loss=1.588, val_acc=47.50%]\n",
      "  7/50: 100%|██████████| 1714/1714 [03:01<00:00,  9.42 batch/s, loss=1.202, lr=9.6e-05, acc=56.43%, val_loss=1.483, val_acc=50.13%]\n",
      "  8/50: 100%|██████████| 1714/1714 [02:54<00:00,  9.80 batch/s, loss=1.185, lr=9.5e-05, acc=56.93%, val_loss=1.570, val_acc=48.87%]\n",
      "  9/50: 100%|██████████| 1714/1714 [02:50<00:00, 10.05 batch/s, loss=1.171, lr=9.4e-05, acc=57.48%, val_loss=1.537, val_acc=49.76%]\n",
      " 10/50:   0%|          | 0/1714 [00:31<?, ? batch/s]\n"
     ]
    },
    {
     "ename": "KeyboardInterrupt",
     "evalue": "",
     "output_type": "error",
     "traceback": [
      "\u001b[1;31m---------------------------------------------------------------------------\u001b[0m",
      "\u001b[1;31mKeyboardInterrupt\u001b[0m                         Traceback (most recent call last)",
      "Cell \u001b[1;32mIn[19], line 27\u001b[0m\n\u001b[0;32m     17\u001b[0m \u001b[38;5;66;03m# Early stopping\u001b[39;00m\n\u001b[0;32m     18\u001b[0m stop_fn \u001b[38;5;241m=\u001b[39m EarlyStopping(\n\u001b[0;32m     19\u001b[0m     stat_to_track       \u001b[38;5;241m=\u001b[39mstat_to_track,\n\u001b[0;32m     20\u001b[0m     mode                \u001b[38;5;241m=\u001b[39mmode,\n\u001b[1;32m   (...)\u001b[0m\n\u001b[0;32m     24\u001b[0m     save_path           \u001b[38;5;241m=\u001b[39mmodel_save_path\n\u001b[0;32m     25\u001b[0m )\n\u001b[1;32m---> 27\u001b[0m \u001b[43mtrain_loop\u001b[49m\u001b[43m(\u001b[49m\n\u001b[0;32m     28\u001b[0m \u001b[43m    \u001b[49m\u001b[43mmodel\u001b[49m\u001b[43m,\u001b[49m\n\u001b[0;32m     29\u001b[0m \u001b[43m    \u001b[49m\u001b[43mcriterion\u001b[49m\u001b[43m           \u001b[49m\u001b[38;5;241;43m=\u001b[39;49m\u001b[43mcriterion\u001b[49m\u001b[43m,\u001b[49m\n\u001b[0;32m     30\u001b[0m \u001b[43m    \u001b[49m\u001b[43moptimizer\u001b[49m\u001b[43m           \u001b[49m\u001b[38;5;241;43m=\u001b[39;49m\u001b[43moptimizer\u001b[49m\u001b[43m,\u001b[49m\n\u001b[0;32m     31\u001b[0m \u001b[43m    \u001b[49m\u001b[43mscheduler\u001b[49m\u001b[43m           \u001b[49m\u001b[38;5;241;43m=\u001b[39;49m\u001b[43mscheduler\u001b[49m\u001b[43m,\u001b[49m\n\u001b[0;32m     32\u001b[0m \u001b[43m    \u001b[49m\u001b[43mepochs\u001b[49m\u001b[43m              \u001b[49m\u001b[38;5;241;43m=\u001b[39;49m\u001b[43mepochs\u001b[49m\u001b[43m,\u001b[49m\n\u001b[0;32m     33\u001b[0m \u001b[43m    \u001b[49m\u001b[43mtrain_loader\u001b[49m\u001b[43m        \u001b[49m\u001b[38;5;241;43m=\u001b[39;49m\u001b[43mtrain_loader\u001b[49m\u001b[43m,\u001b[49m\n\u001b[0;32m     34\u001b[0m \u001b[43m    \u001b[49m\u001b[43mvalidation_loader\u001b[49m\u001b[43m   \u001b[49m\u001b[38;5;241;43m=\u001b[39;49m\u001b[43mvalidation_loader\u001b[49m\u001b[43m,\u001b[49m\n\u001b[0;32m     35\u001b[0m \u001b[43m    \u001b[49m\u001b[43mdevice\u001b[49m\u001b[43m              \u001b[49m\u001b[38;5;241;43m=\u001b[39;49m\u001b[43mdevice\u001b[49m\u001b[43m,\u001b[49m\n\u001b[0;32m     36\u001b[0m \u001b[43m    \u001b[49m\u001b[43mstop_fn\u001b[49m\u001b[43m             \u001b[49m\u001b[38;5;241;43m=\u001b[39;49m\u001b[43mstop_fn\u001b[49m\n\u001b[0;32m     37\u001b[0m \u001b[43m)\u001b[49m\n\u001b[0;32m     39\u001b[0m stopping_report \u001b[38;5;241m=\u001b[39m stop_fn\u001b[38;5;241m.\u001b[39mreport()\n\u001b[0;32m     41\u001b[0m \u001b[38;5;66;03m# If the model was not stopped by EarlyStopping, save it\u001b[39;00m\n",
      "File \u001b[1;32md:\\AI\\med-mnist\\src\\train.py:148\u001b[0m, in \u001b[0;36mtrain_loop\u001b[1;34m(model, criterion, optimizer, scheduler, epochs, train_loader, validation_loader, device, stop_fn)\u001b[0m\n\u001b[0;32m    146\u001b[0m \u001b[38;5;66;03m# Training loop with progress bar\u001b[39;00m\n\u001b[0;32m    147\u001b[0m \u001b[38;5;28;01mwith\u001b[39;00m tqdm(total\u001b[38;5;241m=\u001b[39mtotal_batches, desc\u001b[38;5;241m=\u001b[39m\u001b[38;5;124mf\u001b[39m\u001b[38;5;124m\"\u001b[39m\u001b[38;5;132;01m{\u001b[39;00mepoch\u001b[38;5;241m+\u001b[39m\u001b[38;5;241m1\u001b[39m\u001b[38;5;132;01m:\u001b[39;00m\u001b[38;5;124m>3\u001b[39m\u001b[38;5;132;01m}\u001b[39;00m\u001b[38;5;124m/\u001b[39m\u001b[38;5;132;01m{\u001b[39;00mepochs\u001b[38;5;132;01m}\u001b[39;00m\u001b[38;5;124m\"\u001b[39m, unit\u001b[38;5;241m=\u001b[39m\u001b[38;5;124m\"\u001b[39m\u001b[38;5;124m batch\u001b[39m\u001b[38;5;124m\"\u001b[39m) \u001b[38;5;28;01mas\u001b[39;00m pbar:\n\u001b[1;32m--> 148\u001b[0m     \u001b[38;5;28;01mfor\u001b[39;00m i, data \u001b[38;5;129;01min\u001b[39;00m \u001b[38;5;28;43menumerate\u001b[39;49m\u001b[43m(\u001b[49m\u001b[43mtrain_loader\u001b[49m\u001b[43m,\u001b[49m\u001b[43m \u001b[49m\u001b[38;5;241;43m0\u001b[39;49m\u001b[43m)\u001b[49m:\n\u001b[0;32m    149\u001b[0m         inputs, labels \u001b[38;5;241m=\u001b[39m data\n\u001b[0;32m    150\u001b[0m         inputs, labels \u001b[38;5;241m=\u001b[39m inputs\u001b[38;5;241m.\u001b[39mto(device), labels\u001b[38;5;241m.\u001b[39mto(device)\n",
      "File \u001b[1;32mc:\\Users\\J\\miniconda3\\envs\\med-mnist\\lib\\site-packages\\torch\\utils\\data\\dataloader.py:484\u001b[0m, in \u001b[0;36mDataLoader.__iter__\u001b[1;34m(self)\u001b[0m\n\u001b[0;32m    482\u001b[0m     \u001b[38;5;28;01mreturn\u001b[39;00m \u001b[38;5;28mself\u001b[39m\u001b[38;5;241m.\u001b[39m_iterator\n\u001b[0;32m    483\u001b[0m \u001b[38;5;28;01melse\u001b[39;00m:\n\u001b[1;32m--> 484\u001b[0m     \u001b[38;5;28;01mreturn\u001b[39;00m \u001b[38;5;28;43mself\u001b[39;49m\u001b[38;5;241;43m.\u001b[39;49m\u001b[43m_get_iterator\u001b[49m\u001b[43m(\u001b[49m\u001b[43m)\u001b[49m\n",
      "File \u001b[1;32mc:\\Users\\J\\miniconda3\\envs\\med-mnist\\lib\\site-packages\\torch\\utils\\data\\dataloader.py:415\u001b[0m, in \u001b[0;36mDataLoader._get_iterator\u001b[1;34m(self)\u001b[0m\n\u001b[0;32m    413\u001b[0m \u001b[38;5;28;01melse\u001b[39;00m:\n\u001b[0;32m    414\u001b[0m     \u001b[38;5;28mself\u001b[39m\u001b[38;5;241m.\u001b[39mcheck_worker_number_rationality()\n\u001b[1;32m--> 415\u001b[0m     \u001b[38;5;28;01mreturn\u001b[39;00m \u001b[43m_MultiProcessingDataLoaderIter\u001b[49m\u001b[43m(\u001b[49m\u001b[38;5;28;43mself\u001b[39;49m\u001b[43m)\u001b[49m\n",
      "File \u001b[1;32mc:\\Users\\J\\miniconda3\\envs\\med-mnist\\lib\\site-packages\\torch\\utils\\data\\dataloader.py:1138\u001b[0m, in \u001b[0;36m_MultiProcessingDataLoaderIter.__init__\u001b[1;34m(self, loader)\u001b[0m\n\u001b[0;32m   1131\u001b[0m w\u001b[38;5;241m.\u001b[39mdaemon \u001b[38;5;241m=\u001b[39m \u001b[38;5;28;01mTrue\u001b[39;00m\n\u001b[0;32m   1132\u001b[0m \u001b[38;5;66;03m# NB: Process.start() actually take some time as it needs to\u001b[39;00m\n\u001b[0;32m   1133\u001b[0m \u001b[38;5;66;03m#     start a process and pass the arguments over via a pipe.\u001b[39;00m\n\u001b[0;32m   1134\u001b[0m \u001b[38;5;66;03m#     Therefore, we only add a worker to self._workers list after\u001b[39;00m\n\u001b[0;32m   1135\u001b[0m \u001b[38;5;66;03m#     it started, so that we do not call .join() if program dies\u001b[39;00m\n\u001b[0;32m   1136\u001b[0m \u001b[38;5;66;03m#     before it starts, and __del__ tries to join but will get:\u001b[39;00m\n\u001b[0;32m   1137\u001b[0m \u001b[38;5;66;03m#     AssertionError: can only join a started process.\u001b[39;00m\n\u001b[1;32m-> 1138\u001b[0m \u001b[43mw\u001b[49m\u001b[38;5;241;43m.\u001b[39;49m\u001b[43mstart\u001b[49m\u001b[43m(\u001b[49m\u001b[43m)\u001b[49m\n\u001b[0;32m   1139\u001b[0m \u001b[38;5;28mself\u001b[39m\u001b[38;5;241m.\u001b[39m_index_queues\u001b[38;5;241m.\u001b[39mappend(index_queue)\n\u001b[0;32m   1140\u001b[0m \u001b[38;5;28mself\u001b[39m\u001b[38;5;241m.\u001b[39m_workers\u001b[38;5;241m.\u001b[39mappend(w)\n",
      "File \u001b[1;32mc:\\Users\\J\\miniconda3\\envs\\med-mnist\\lib\\multiprocessing\\process.py:121\u001b[0m, in \u001b[0;36mBaseProcess.start\u001b[1;34m(self)\u001b[0m\n\u001b[0;32m    118\u001b[0m \u001b[38;5;28;01massert\u001b[39;00m \u001b[38;5;129;01mnot\u001b[39;00m _current_process\u001b[38;5;241m.\u001b[39m_config\u001b[38;5;241m.\u001b[39mget(\u001b[38;5;124m'\u001b[39m\u001b[38;5;124mdaemon\u001b[39m\u001b[38;5;124m'\u001b[39m), \\\n\u001b[0;32m    119\u001b[0m        \u001b[38;5;124m'\u001b[39m\u001b[38;5;124mdaemonic processes are not allowed to have children\u001b[39m\u001b[38;5;124m'\u001b[39m\n\u001b[0;32m    120\u001b[0m _cleanup()\n\u001b[1;32m--> 121\u001b[0m \u001b[38;5;28mself\u001b[39m\u001b[38;5;241m.\u001b[39m_popen \u001b[38;5;241m=\u001b[39m \u001b[38;5;28;43mself\u001b[39;49m\u001b[38;5;241;43m.\u001b[39;49m\u001b[43m_Popen\u001b[49m\u001b[43m(\u001b[49m\u001b[38;5;28;43mself\u001b[39;49m\u001b[43m)\u001b[49m\n\u001b[0;32m    122\u001b[0m \u001b[38;5;28mself\u001b[39m\u001b[38;5;241m.\u001b[39m_sentinel \u001b[38;5;241m=\u001b[39m \u001b[38;5;28mself\u001b[39m\u001b[38;5;241m.\u001b[39m_popen\u001b[38;5;241m.\u001b[39msentinel\n\u001b[0;32m    123\u001b[0m \u001b[38;5;66;03m# Avoid a refcycle if the target function holds an indirect\u001b[39;00m\n\u001b[0;32m    124\u001b[0m \u001b[38;5;66;03m# reference to the process object (see bpo-30775)\u001b[39;00m\n",
      "File \u001b[1;32mc:\\Users\\J\\miniconda3\\envs\\med-mnist\\lib\\multiprocessing\\context.py:224\u001b[0m, in \u001b[0;36mProcess._Popen\u001b[1;34m(process_obj)\u001b[0m\n\u001b[0;32m    222\u001b[0m \u001b[38;5;129m@staticmethod\u001b[39m\n\u001b[0;32m    223\u001b[0m \u001b[38;5;28;01mdef\u001b[39;00m \u001b[38;5;21m_Popen\u001b[39m(process_obj):\n\u001b[1;32m--> 224\u001b[0m     \u001b[38;5;28;01mreturn\u001b[39;00m \u001b[43m_default_context\u001b[49m\u001b[38;5;241;43m.\u001b[39;49m\u001b[43mget_context\u001b[49m\u001b[43m(\u001b[49m\u001b[43m)\u001b[49m\u001b[38;5;241;43m.\u001b[39;49m\u001b[43mProcess\u001b[49m\u001b[38;5;241;43m.\u001b[39;49m\u001b[43m_Popen\u001b[49m\u001b[43m(\u001b[49m\u001b[43mprocess_obj\u001b[49m\u001b[43m)\u001b[49m\n",
      "File \u001b[1;32mc:\\Users\\J\\miniconda3\\envs\\med-mnist\\lib\\multiprocessing\\context.py:336\u001b[0m, in \u001b[0;36mSpawnProcess._Popen\u001b[1;34m(process_obj)\u001b[0m\n\u001b[0;32m    333\u001b[0m \u001b[38;5;129m@staticmethod\u001b[39m\n\u001b[0;32m    334\u001b[0m \u001b[38;5;28;01mdef\u001b[39;00m \u001b[38;5;21m_Popen\u001b[39m(process_obj):\n\u001b[0;32m    335\u001b[0m     \u001b[38;5;28;01mfrom\u001b[39;00m \u001b[38;5;21;01m.\u001b[39;00m\u001b[38;5;21;01mpopen_spawn_win32\u001b[39;00m \u001b[38;5;28;01mimport\u001b[39;00m Popen\n\u001b[1;32m--> 336\u001b[0m     \u001b[38;5;28;01mreturn\u001b[39;00m \u001b[43mPopen\u001b[49m\u001b[43m(\u001b[49m\u001b[43mprocess_obj\u001b[49m\u001b[43m)\u001b[49m\n",
      "File \u001b[1;32mc:\\Users\\J\\miniconda3\\envs\\med-mnist\\lib\\multiprocessing\\popen_spawn_win32.py:93\u001b[0m, in \u001b[0;36mPopen.__init__\u001b[1;34m(self, process_obj)\u001b[0m\n\u001b[0;32m     91\u001b[0m \u001b[38;5;28;01mtry\u001b[39;00m:\n\u001b[0;32m     92\u001b[0m     reduction\u001b[38;5;241m.\u001b[39mdump(prep_data, to_child)\n\u001b[1;32m---> 93\u001b[0m     \u001b[43mreduction\u001b[49m\u001b[38;5;241;43m.\u001b[39;49m\u001b[43mdump\u001b[49m\u001b[43m(\u001b[49m\u001b[43mprocess_obj\u001b[49m\u001b[43m,\u001b[49m\u001b[43m \u001b[49m\u001b[43mto_child\u001b[49m\u001b[43m)\u001b[49m\n\u001b[0;32m     94\u001b[0m \u001b[38;5;28;01mfinally\u001b[39;00m:\n\u001b[0;32m     95\u001b[0m     set_spawning_popen(\u001b[38;5;28;01mNone\u001b[39;00m)\n",
      "File \u001b[1;32mc:\\Users\\J\\miniconda3\\envs\\med-mnist\\lib\\multiprocessing\\reduction.py:60\u001b[0m, in \u001b[0;36mdump\u001b[1;34m(obj, file, protocol)\u001b[0m\n\u001b[0;32m     58\u001b[0m \u001b[38;5;28;01mdef\u001b[39;00m \u001b[38;5;21mdump\u001b[39m(obj, file, protocol\u001b[38;5;241m=\u001b[39m\u001b[38;5;28;01mNone\u001b[39;00m):\n\u001b[0;32m     59\u001b[0m \u001b[38;5;250m    \u001b[39m\u001b[38;5;124;03m'''Replacement for pickle.dump() using ForkingPickler.'''\u001b[39;00m\n\u001b[1;32m---> 60\u001b[0m     \u001b[43mForkingPickler\u001b[49m\u001b[43m(\u001b[49m\u001b[43mfile\u001b[49m\u001b[43m,\u001b[49m\u001b[43m \u001b[49m\u001b[43mprotocol\u001b[49m\u001b[43m)\u001b[49m\u001b[38;5;241;43m.\u001b[39;49m\u001b[43mdump\u001b[49m\u001b[43m(\u001b[49m\u001b[43mobj\u001b[49m\u001b[43m)\u001b[49m\n",
      "\u001b[1;31mKeyboardInterrupt\u001b[0m: "
     ]
    }
   ],
   "source": [
    "# Loss function\n",
    "criterion = nn.CrossEntropyLoss()\n",
    "\n",
    "# Optimizer selection\n",
    "if optimizer_name == \"SGD\":\n",
    "    optimizer = optim.SGD(model.parameters(), lr=lr, momentum=momentum, weight_decay=weight_decay)\n",
    "elif optimizer_name == \"Adam\":\n",
    "    optimizer = optim.Adam(model.parameters(), lr=lr, weight_decay=weight_decay)\n",
    "\n",
    "\n",
    "# Initialize the scheduler\n",
    "# Uncomment the scheduler you want to use:\n",
    "# scheduler = StepLR(optimizer, step_size=5, gamma=0.5)  # Decreases LR by gamma every step_size epochs\n",
    "scheduler = CosineAnnealingLR(optimizer, T_max=epochs)  # Adjusts LR using cosine annealing over epochs\n",
    "\n",
    "\n",
    "# Early stopping\n",
    "stop_fn = EarlyStopping(\n",
    "    stat_to_track       =stat_to_track,\n",
    "    mode                =mode,\n",
    "    patience            =patience,\n",
    "    delta               =delta,\n",
    "    delay               =delay,\n",
    "    save_path           =model_save_path\n",
    ")\n",
    "\n",
    "train_loop(\n",
    "    model,\n",
    "    criterion           =criterion,\n",
    "    optimizer           =optimizer,\n",
    "    scheduler           =scheduler,\n",
    "    epochs              =epochs,\n",
    "    train_loader        =train_loader,\n",
    "    validation_loader   =validation_loader,\n",
    "    device              =device,\n",
    "    stop_fn             =stop_fn\n",
    ")\n",
    "\n",
    "stopping_report = stop_fn.report()\n",
    "\n",
    "# If the model was not stopped by EarlyStopping, save it\n",
    "if not stopping_report:\n",
    "    torch.save(model.state_dict(), model_save_path)\n",
    "else:\n",
    "    for key in stopping_report:\n",
    "        print(f\"{key}: {stopping_report[key]}\")"
   ]
  }
 ],
 "metadata": {
  "kernelspec": {
   "display_name": "med-mnist",
   "language": "python",
   "name": "python3"
  },
  "language_info": {
   "codemirror_mode": {
    "name": "ipython",
    "version": 3
   },
   "file_extension": ".py",
   "mimetype": "text/x-python",
   "name": "python",
   "nbconvert_exporter": "python",
   "pygments_lexer": "ipython3",
   "version": "3.10.16"
  }
 },
 "nbformat": 4,
 "nbformat_minor": 2
}
