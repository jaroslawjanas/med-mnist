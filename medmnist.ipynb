{
 "cells": [
  {
   "cell_type": "markdown",
   "metadata": {},
   "source": [
    "# Environment"
   ]
  },
  {
   "cell_type": "code",
   "execution_count": 1,
   "metadata": {},
   "outputs": [],
   "source": [
    "import os\n",
    "from pprint import pprint\n",
    "import matplotlib.pyplot as plt\n",
    "\n",
    "import torch\n",
    "from torch.utils.data import DataLoader\n",
    "import torchvision.utils as vutils\n",
    "from torchvision.transforms import v2\n",
    "from torchvision.transforms.functional import InterpolationMode\n",
    "\n",
    "import medmnist\n",
    "from medmnist import INFO\n",
    "\n",
    "import src.medmnist_dataset as md"
   ]
  },
  {
   "cell_type": "code",
   "execution_count": 2,
   "metadata": {},
   "outputs": [],
   "source": [
    "# Get CWD\n",
    "CWD = os.getcwd()"
   ]
  },
  {
   "cell_type": "code",
   "execution_count": 3,
   "metadata": {},
   "outputs": [
    {
     "name": "stdout",
     "output_type": "stream",
     "text": [
      "3.0.2\n"
     ]
    }
   ],
   "source": [
    "print(medmnist.__version__)"
   ]
  },
  {
   "cell_type": "markdown",
   "metadata": {},
   "source": [
    "# Data"
   ]
  },
  {
   "cell_type": "markdown",
   "metadata": {},
   "source": [
    "## Data Download"
   ]
  },
  {
   "cell_type": "code",
   "execution_count": 4,
   "metadata": {},
   "outputs": [],
   "source": [
    "avaliable_datasets = [\"pathmnist\", \"dermamnist\", \\\n",
    "                    \"octmnist\", \"pneumoniamnist\", \"breastmnist\", \\\n",
    "                    \"bloodmnist\", \"tissuemnist\", \"organamnist\", \\\n",
    "                    \"organcmnist\", \"organsmnist\"] # \"retinamnist\", \"chestmnist\"]"
   ]
  },
  {
   "cell_type": "code",
   "execution_count": 5,
   "metadata": {},
   "outputs": [
    {
     "name": "stdout",
     "output_type": "stream",
     "text": [
      "----------------------------------------------------------------------------------------------------\n",
      "Dataset: pathmnist\n",
      "Python: PathMNIST\n",
      "Task: multi-class\n",
      "Number of classes: 9\n",
      "Channels: 3\n",
      "Classes:\n",
      "{'0': 'adipose',\n",
      " '1': 'background',\n",
      " '2': 'debris',\n",
      " '3': 'lymphocytes',\n",
      " '4': 'mucus',\n",
      " '5': 'smooth muscle',\n",
      " '6': 'normal colon mucosa',\n",
      " '7': 'cancer-associated stroma',\n",
      " '8': 'colorectal adenocarcinoma epithelium'}\n",
      "----------------------------------------------------------------------------------------------------\n",
      "Dataset: dermamnist\n",
      "Python: DermaMNIST\n",
      "Task: multi-class\n",
      "Number of classes: 7\n",
      "Channels: 3\n",
      "Classes:\n",
      "{'0': 'actinic keratoses and intraepithelial carcinoma',\n",
      " '1': 'basal cell carcinoma',\n",
      " '2': 'benign keratosis-like lesions',\n",
      " '3': 'dermatofibroma',\n",
      " '4': 'melanoma',\n",
      " '5': 'melanocytic nevi',\n",
      " '6': 'vascular lesions'}\n",
      "----------------------------------------------------------------------------------------------------\n",
      "Dataset: octmnist\n",
      "Python: OCTMNIST\n",
      "Task: multi-class\n",
      "Number of classes: 4\n",
      "Channels: 1\n",
      "Classes:\n",
      "{'0': 'choroidal neovascularization',\n",
      " '1': 'diabetic macular edema',\n",
      " '2': 'drusen',\n",
      " '3': 'normal'}\n",
      "----------------------------------------------------------------------------------------------------\n",
      "Dataset: pneumoniamnist\n",
      "Python: PneumoniaMNIST\n",
      "Task: binary-class\n",
      "Number of classes: 2\n",
      "Channels: 1\n",
      "Classes:\n",
      "{'0': 'normal', '1': 'pneumonia'}\n",
      "----------------------------------------------------------------------------------------------------\n",
      "Dataset: breastmnist\n",
      "Python: BreastMNIST\n",
      "Task: binary-class\n",
      "Number of classes: 2\n",
      "Channels: 1\n",
      "Classes:\n",
      "{'0': 'malignant', '1': 'normal, benign'}\n",
      "----------------------------------------------------------------------------------------------------\n",
      "Dataset: bloodmnist\n",
      "Python: BloodMNIST\n",
      "Task: multi-class\n",
      "Number of classes: 8\n",
      "Channels: 3\n",
      "Classes:\n",
      "{'0': 'basophil',\n",
      " '1': 'eosinophil',\n",
      " '2': 'erythroblast',\n",
      " '3': 'immature granulocytes(myelocytes, metamyelocytes and promyelocytes)',\n",
      " '4': 'lymphocyte',\n",
      " '5': 'monocyte',\n",
      " '6': 'neutrophil',\n",
      " '7': 'platelet'}\n",
      "----------------------------------------------------------------------------------------------------\n",
      "Dataset: tissuemnist\n",
      "Python: TissueMNIST\n",
      "Task: multi-class\n",
      "Number of classes: 8\n",
      "Channels: 1\n",
      "Classes:\n",
      "{'0': 'Collecting Duct, Connecting Tubule',\n",
      " '1': 'Distal Convoluted Tubule',\n",
      " '2': 'Glomerular endothelial cells',\n",
      " '3': 'Interstitial endothelial cells',\n",
      " '4': 'Leukocytes',\n",
      " '5': 'Podocytes',\n",
      " '6': 'Proximal Tubule Segments',\n",
      " '7': 'Thick Ascending Limb'}\n",
      "----------------------------------------------------------------------------------------------------\n",
      "Dataset: organamnist\n",
      "Python: OrganAMNIST\n",
      "Task: multi-class\n",
      "Number of classes: 11\n",
      "Channels: 1\n",
      "Classes:\n",
      "{'0': 'bladder',\n",
      " '1': 'femur-left',\n",
      " '10': 'spleen',\n",
      " '2': 'femur-right',\n",
      " '3': 'heart',\n",
      " '4': 'kidney-left',\n",
      " '5': 'kidney-right',\n",
      " '6': 'liver',\n",
      " '7': 'lung-left',\n",
      " '8': 'lung-right',\n",
      " '9': 'pancreas'}\n",
      "----------------------------------------------------------------------------------------------------\n",
      "Dataset: organcmnist\n",
      "Python: OrganCMNIST\n",
      "Task: multi-class\n",
      "Number of classes: 11\n",
      "Channels: 1\n",
      "Classes:\n",
      "{'0': 'bladder',\n",
      " '1': 'femur-left',\n",
      " '10': 'spleen',\n",
      " '2': 'femur-right',\n",
      " '3': 'heart',\n",
      " '4': 'kidney-left',\n",
      " '5': 'kidney-right',\n",
      " '6': 'liver',\n",
      " '7': 'lung-left',\n",
      " '8': 'lung-right',\n",
      " '9': 'pancreas'}\n",
      "----------------------------------------------------------------------------------------------------\n",
      "Dataset: organsmnist\n",
      "Python: OrganSMNIST\n",
      "Task: multi-class\n",
      "Number of classes: 11\n",
      "Channels: 1\n",
      "Classes:\n",
      "{'0': 'bladder',\n",
      " '1': 'femur-left',\n",
      " '10': 'spleen',\n",
      " '2': 'femur-right',\n",
      " '3': 'heart',\n",
      " '4': 'kidney-left',\n",
      " '5': 'kidney-right',\n",
      " '6': 'liver',\n",
      " '7': 'lung-left',\n",
      " '8': 'lung-right',\n",
      " '9': 'pancreas'}\n"
     ]
    }
   ],
   "source": [
    "for dataset_name in avaliable_datasets:\n",
    "    \n",
    "    info = INFO[dataset_name]\n",
    "    print(f\"-\"*100)\n",
    "    print(f\"Dataset: {dataset_name}\")\n",
    "    print(f\"Python: {info['python_class']}\")\n",
    "    print(f\"Task: {info['task']}\")\n",
    "    print(f\"Number of classes: {len(info['label'])}\")\n",
    "    print(f\"Channels: {info['n_channels']}\")\n",
    "    print(\"Classes:\")\n",
    "    pprint(info['label'])"
   ]
  },
  {
   "cell_type": "code",
   "execution_count": 6,
   "metadata": {},
   "outputs": [
    {
     "name": "stdout",
     "output_type": "stream",
     "text": [
      "File d:\\AI\\med-mnist\\datasets\\28\\pathmnist_28.npz already exists. Skipping download.\n",
      "File d:\\AI\\med-mnist\\datasets\\28\\dermamnist_28.npz already exists. Skipping download.\n",
      "File d:\\AI\\med-mnist\\datasets\\28\\octmnist_28.npz already exists. Skipping download.\n",
      "File d:\\AI\\med-mnist\\datasets\\28\\pneumoniamnist_28.npz already exists. Skipping download.\n",
      "File d:\\AI\\med-mnist\\datasets\\28\\breastmnist_28.npz already exists. Skipping download.\n",
      "File d:\\AI\\med-mnist\\datasets\\28\\bloodmnist_28.npz already exists. Skipping download.\n",
      "File d:\\AI\\med-mnist\\datasets\\28\\tissuemnist_28.npz already exists. Skipping download.\n",
      "File d:\\AI\\med-mnist\\datasets\\28\\organamnist_28.npz already exists. Skipping download.\n",
      "File d:\\AI\\med-mnist\\datasets\\28\\organcmnist_28.npz already exists. Skipping download.\n",
      "File d:\\AI\\med-mnist\\datasets\\28\\organsmnist_28.npz already exists. Skipping download.\n"
     ]
    }
   ],
   "source": [
    "image_size = 28 # 28, 64, 128 or 256\n",
    "datasets_path = os.path.join(CWD, \"datasets\", str(image_size))\n",
    "os.makedirs(datasets_path, exist_ok=True)\n",
    "\n",
    "md.download(avaliable_datasets, datasets_path, image_size)"
   ]
  },
  {
   "cell_type": "markdown",
   "metadata": {},
   "source": [
    "## Dataset Unification"
   ]
  },
  {
   "cell_type": "code",
   "execution_count": 7,
   "metadata": {},
   "outputs": [
    {
     "name": "stdout",
     "output_type": "stream",
     "text": [
      "File d:\\AI\\med-mnist\\datasets\\28\\organs_28.npz already exists.\n"
     ]
    }
   ],
   "source": [
    "organ_datasets = [\"organamnist\", \"organcmnist\", \"organsmnist\"] # These are the same - have the same classes\n",
    "\n",
    "md.unify_data(\n",
    "    organ_datasets,\n",
    "    are_unique_classes  = False,\n",
    "    image_size          = image_size,\n",
    "    datasets_path       = datasets_path,\n",
    "    save_path           = datasets_path,\n",
    "    filename            = f\"organs_{image_size}\"\n",
    ");"
   ]
  },
  {
   "cell_type": "code",
   "execution_count": 8,
   "metadata": {},
   "outputs": [
    {
     "name": "stdout",
     "output_type": "stream",
     "text": [
      "File d:\\AI\\med-mnist\\datasets\\28\\unified_28.npz already exists.\n"
     ]
    }
   ],
   "source": [
    "new_avaliable_datasets = [\"organs\", \"pathmnist\", \"dermamnist\", \"octmnist\", \"pneumoniamnist\", \\\n",
    "                            \"breastmnist\", \"bloodmnist\", \"tissuemnist\"]\n",
    "\n",
    "md.unify_data(\n",
    "    new_avaliable_datasets,\n",
    "    are_unique_classes  = True,\n",
    "    image_size          = image_size,\n",
    "    datasets_path       = datasets_path,\n",
    "    save_path           = datasets_path,\n",
    "    filename            = f\"unified_{image_size}\"\n",
    ");"
   ]
  },
  {
   "cell_type": "markdown",
   "metadata": {},
   "source": [
    "## Dataset"
   ]
  },
  {
   "cell_type": "code",
   "execution_count": 9,
   "metadata": {},
   "outputs": [],
   "source": [
    "transform = v2.Compose(\n",
    "    [\n",
    "        v2.ToDtype(torch.float32, scale=True),\n",
    "        v2.Normalize([0.5, 0.5, 0.5], [0.5, 0.5, 0.5])\n",
    "    ]\n",
    ")\n",
    "\n",
    "# Training augmentations\n",
    "augmentation = v2.Compose(\n",
    "    [\n",
    "        transform,\n",
    "        v2.RandomHorizontalFlip(p=0.5),\n",
    "        v2.Pad(round(image_size/10), padding_mode=\"reflect\"),\n",
    "        v2.RandomRotation(degrees=10, interpolation=InterpolationMode.BILINEAR),\n",
    "        v2.CenterCrop(size=(image_size, image_size))\n",
    "    ]\n",
    ")"
   ]
  },
  {
   "cell_type": "code",
   "execution_count": 10,
   "metadata": {},
   "outputs": [],
   "source": [
    "unified_dataset_path = os.path.join(datasets_path, f\"unified_{image_size}.npz\")\n",
    "\n",
    "train_dataset = md.NPZDataset(unified_dataset_path, split=\"train\", transform=augmentation)\n",
    "validation_dataset = md.NPZDataset(unified_dataset_path, split=\"val\", transform=transform)"
   ]
  },
  {
   "cell_type": "markdown",
   "metadata": {},
   "source": [
    "## Data Loader"
   ]
  },
  {
   "cell_type": "code",
   "execution_count": 11,
   "metadata": {},
   "outputs": [],
   "source": [
    "batch_size = 32\n",
    "num_workers = 4"
   ]
  },
  {
   "cell_type": "code",
   "execution_count": 12,
   "metadata": {},
   "outputs": [],
   "source": [
    "train_loader = DataLoader(\n",
    "    train_dataset,\n",
    "    batch_size=batch_size, \n",
    "    shuffle=True,\n",
    "    num_workers=num_workers,\n",
    "    prefetch_factor=10,\n",
    ")\n",
    "\n",
    "validation_loader = DataLoader(\n",
    "    validation_dataset,\n",
    "    batch_size=batch_size, \n",
    "    shuffle=False,\n",
    "    num_workers=num_workers,\n",
    "    prefetch_factor=10,\n",
    ")"
   ]
  },
  {
   "cell_type": "markdown",
   "metadata": {},
   "source": [
    "### Test Data Loader"
   ]
  },
  {
   "cell_type": "code",
   "execution_count": 15,
   "metadata": {},
   "outputs": [
    {
     "name": "stdout",
     "output_type": "stream",
     "text": [
      "Min: 0.0015344321727752686 Max: 1.0\n"
     ]
    },
    {
     "data": {
      "image/png": "[encoded data removed]",
      "text/plain": [
       "<Figure size 1200x500 with 10 Axes>"
      ]
     },
     "metadata": {},
     "output_type": "display_data"
    }
   ],
   "source": [
    "# Get one batch from train_loader\n",
    "batch = next(iter(train_loader))\n",
    "images, labels = batch  # Unpack batch\n",
    "\n",
    "# # Denormalize for visualization\n",
    "mean = torch.tensor([0.5, 0.5, 0.5]).view(3, 1, 1)  # Shape (C, 1, 1)\n",
    "std = torch.tensor([0.5, 0.5, 0.5]).view(3, 1, 1)\n",
    "\n",
    "# Convert images back to [0, 1] range for visualization\n",
    "images = images * std + mean  \n",
    "images = torch.clamp(images, 0, 1)  # Ensure values stay in range\n",
    "\n",
    "# Plot some images\n",
    "fig, axes = plt.subplots(2, 5, figsize=(12, 5))  # Grid 2x5\n",
    "for i, ax in enumerate(axes.flat):\n",
    "    img = images[i].permute(1, 2, 0).cpu().numpy()  # Convert (C, H, W) → (H, W, C)\n",
    "    ax.imshow(img)\n",
    "    ax.axis(\"off\")\n",
    "\n",
    "plt.show()"
   ]
  },
  {
   "cell_type": "code",
   "execution_count": null,
   "metadata": {},
   "outputs": [],
   "source": []
  }
 ],
 "metadata": {
  "kernelspec": {
   "display_name": "med-mnist",
   "language": "python",
   "name": "python3"
  },
  "language_info": {
   "codemirror_mode": {
    "name": "ipython",
    "version": 3
   },
   "file_extension": ".py",
   "mimetype": "text/x-python",
   "name": "python",
   "nbconvert_exporter": "python",
   "pygments_lexer": "ipython3",
   "version": "3.10.16"
  }
 },
 "nbformat": 4,
 "nbformat_minor": 2
}
